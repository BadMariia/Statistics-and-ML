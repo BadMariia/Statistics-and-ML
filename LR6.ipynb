{
  "nbformat": 4,
  "nbformat_minor": 0,
  "metadata": {
    "colab": {
      "provenance": []
    },
    "kernelspec": {
      "name": "python3",
      "display_name": "Python 3"
    },
    "language_info": {
      "name": "python"
    }
  },
  "cells": [
    {
      "cell_type": "code",
      "source": [
        "import random"
      ],
      "metadata": {
        "id": "vz1RCJRrHT6l"
      },
      "execution_count": 5,
      "outputs": []
    },
    {
      "cell_type": "code",
      "execution_count": 6,
      "metadata": {
        "id": "JbQu2VUJyGfO",
        "colab": {
          "base_uri": "https://localhost:8080/"
        },
        "outputId": "01a40a41-0d97-4355-b25e-421c390d5c9b"
      },
      "outputs": [
        {
          "output_type": "stream",
          "name": "stdout",
          "text": [
            "Looking in indexes: https://pypi.org/simple, https://us-python.pkg.dev/colab-wheels/public/simple/\n",
            "Requirement already satisfied: numpy in /usr/local/lib/python3.10/dist-packages (1.22.4)\n",
            "Requirement already satisfied: matplotlib in /usr/local/lib/python3.10/dist-packages (3.7.1)\n",
            "Requirement already satisfied: contourpy>=1.0.1 in /usr/local/lib/python3.10/dist-packages (from matplotlib) (1.0.7)\n",
            "Requirement already satisfied: cycler>=0.10 in /usr/local/lib/python3.10/dist-packages (from matplotlib) (0.11.0)\n",
            "Requirement already satisfied: fonttools>=4.22.0 in /usr/local/lib/python3.10/dist-packages (from matplotlib) (4.39.3)\n",
            "Requirement already satisfied: kiwisolver>=1.0.1 in /usr/local/lib/python3.10/dist-packages (from matplotlib) (1.4.4)\n",
            "Requirement already satisfied: packaging>=20.0 in /usr/local/lib/python3.10/dist-packages (from matplotlib) (23.1)\n",
            "Requirement already satisfied: pillow>=6.2.0 in /usr/local/lib/python3.10/dist-packages (from matplotlib) (8.4.0)\n",
            "Requirement already satisfied: pyparsing>=2.3.1 in /usr/local/lib/python3.10/dist-packages (from matplotlib) (3.0.9)\n",
            "Requirement already satisfied: python-dateutil>=2.7 in /usr/local/lib/python3.10/dist-packages (from matplotlib) (2.8.2)\n",
            "Requirement already satisfied: six>=1.5 in /usr/local/lib/python3.10/dist-packages (from python-dateutil>=2.7->matplotlib) (1.16.0)\n"
          ]
        }
      ],
      "source": [
        "!pip install numpy matplotlib \n",
        "import numpy as np\n",
        "import matplotlib.pyplot as plt\n",
        "from random import shuffle"
      ]
    },
    {
      "cell_type": "code",
      "source": [
        "a = np.array([\n",
        "    0, 0, 1, 1, 0, 0, 0, 1, 1, 0,\n",
        "    0, 0, 1, 1, 1, 0, 1, 1, 1, 0,\n",
        "    0, 1, 1, 1, 1, 1, 1, 1, 1, 0,\n",
        "    0, 1, 0, 0, 0, 0, 0, 0, 1, 0,\n",
        "    0, 1, 0, 1, 0, 0, 1, 0, 1, 0,\n",
        "    0, 1, 0, 0, 0, 0, 0, 0, 1, 0,\n",
        "    1, 1, 1, 0, 0, 1, 1, 0, 1, 0,\n",
        "    0, 1, 0, 0, 0, 0, 0, 0, 1, 0,\n",
        "    0, 1, 1, 1, 1, 1, 1, 1, 1, 0,\n",
        "    0, 0, 0, 0, 0, 0, 0, 0, 0, 0,\n",
        "]).reshape(1, -1)\n",
        "\n",
        "b = np.array([\n",
        "    1, 1, 0, 0, 0, 0, 0, 0, 1, 1,\n",
        "    1, 1, 1, 0, 0, 0, 0, 1, 1, 1,\n",
        "    1, 0, 1, 1, 0, 0, 1, 1, 0, 1,\n",
        "    1, 0, 0, 1, 1, 1, 1, 0, 0, 1,\n",
        "    1, 0, 0, 0, 0, 0, 0, 0, 0, 1,\n",
        "    1, 0, 1, 1, 0, 1, 1, 0, 0, 1,\n",
        "    1, 0, 0, 1, 0, 0, 1, 0, 0, 1,\n",
        "    0, 1, 0, 0, 0, 0, 0, 0, 1, 0,\n",
        "    0, 0, 1, 0, 0, 0, 0, 1, 0, 0,\n",
        "    0, 0, 0, 1, 1, 1, 1, 0, 0, 0,\n",
        "]).reshape(1, -1)\n",
        "\n",
        "c = np.array([\n",
        "    0, 0, 0, 1, 1, 1, 1, 0, 0, 0,\n",
        "    0, 0, 1, 1, 0, 0, 1, 1, 0, 0,\n",
        "    0, 1, 1, 0, 1, 1, 0, 1, 1, 0,\n",
        "    0, 1, 0, 0, 0, 0, 0, 0, 1, 0,\n",
        "    0, 1, 1, 1, 1, 1, 1, 1, 1, 0,\n",
        "    0, 1, 0, 0, 0, 0, 0, 0, 1, 0,\n",
        "    0, 1, 0, 0, 1, 1, 0, 0, 1, 0,\n",
        "    0, 1, 0, 0, 1, 1, 0, 0, 1, 0,\n",
        "    0, 1, 0, 0, 0, 0, 0, 0, 1, 0,\n",
        "    0, 1, 1, 1, 1, 1, 1, 1, 1, 0,\n",
        "]).reshape(1, -1)\n",
        "\n",
        "d = np.array([\n",
        "    0, 0, 0, 0, 1, 1, 0, 0, 0, 0,\n",
        "    0, 0, 0, 1, 1, 1, 1, 0, 0, 0,\n",
        "    0, 0, 1, 1, 1, 1, 1, 1, 0, 0,\n",
        "    0, 1, 1, 1, 1, 1, 1, 1, 1, 0,\n",
        "    0, 1, 1, 1, 0, 0, 1, 1, 1, 0,\n",
        "    0, 0, 1, 1, 0, 0, 1, 1, 0, 0,\n",
        "    0, 0, 1, 1, 1, 1, 1, 1, 0, 0,\n",
        "    0, 0, 1, 1, 1, 1, 1, 1, 0, 0,\n",
        "    0, 0, 1, 1, 0, 0, 1, 1, 0, 0,\n",
        "    0, 0, 1, 1, 0, 0, 1, 1, 0, 0,\n",
        "]).reshape(1, -1)\n",
        "\n",
        "# Набор векторов признаков для каждого из 4-х экземпляров\n",
        "x = [a, b, c, d]\n",
        "\n",
        "# Метки классов для каждого из 4-х экземпляров\n",
        "y = np.array([0, 0, 1, 1])"
      ],
      "metadata": {
        "id": "GOS57mQ9yL35"
      },
      "execution_count": 7,
      "outputs": []
    },
    {
      "cell_type": "code",
      "source": [
        "plt.figure()\n",
        "f, axarr = plt.subplots(1, 4)\n",
        "axarr[0].imshow(a[0].reshape(10, 10))\n",
        "axarr[0].set_title('Котик')\n",
        "\n",
        "axarr[1].imshow(b[0].reshape(10, 10))\n",
        "axarr[1].set_title('Котик')\n",
        "\n",
        "axarr[2].imshow(c[0].reshape(10, 10))\n",
        "axarr[2].set_title('Домик')\n",
        "\n",
        "axarr[3].imshow(d[0].reshape(10, 10))\n",
        "axarr[3].set_title('Домик')"
      ],
      "metadata": {
        "colab": {
          "base_uri": "https://localhost:8080/",
          "height": 227
        },
        "id": "cRHLSOXjyS6F",
        "outputId": "57d72295-f8b6-4843-b363-0da4fd62b993"
      },
      "execution_count": 8,
      "outputs": [
        {
          "output_type": "execute_result",
          "data": {
            "text/plain": [
              "Text(0.5, 1.0, 'Домик')"
            ]
          },
          "metadata": {},
          "execution_count": 8
        },
        {
          "output_type": "display_data",
          "data": {
            "text/plain": [
              "<Figure size 640x480 with 0 Axes>"
            ]
          },
          "metadata": {}
        },
        {
          "output_type": "display_data",
          "data": {
            "text/plain": [
              "<Figure size 640x480 with 4 Axes>"
            ],
            "image/png": "[encoded data removed]"
          },
          "metadata": {}
        }
      ]
    },
    {
      "cell_type": "code",
      "source": [
        "# Реализуйте функцию сигмоиду, ...\n",
        "import math\n",
        "def sigmoid(x):\n",
        "    return 1 / (1 + np.exp(-x))\n",
        "\n",
        "def sigmoid_grad(x):\n",
        "    s = sigmoid(x)\n",
        "    return s * (1 - s)\n"
      ],
      "metadata": {
        "id": "juKhL-exydkL"
      },
      "execution_count": 9,
      "outputs": []
    },
    {
      "cell_type": "code",
      "source": [
        "# Тесты предназначены для проверки того, что вы корректно реализовали функцию\n",
        "assert np.isclose(sigmoid(0), 0.5)\n",
        "assert np.isclose(sigmoid(1), 0.7310585786300049)"
      ],
      "metadata": {
        "id": "jixH05sozqQh"
      },
      "execution_count": 10,
      "outputs": []
    },
    {
      "cell_type": "code",
      "source": [
        "assert np.isclose(sigmoid_grad(0), 0.25)\n",
        "assert np.isclose(sigmoid_grad(1), 0.19661193324148185)"
      ],
      "metadata": {
        "id": "ng-8FxhpEnNF"
      },
      "execution_count": 11,
      "outputs": []
    },
    {
      "cell_type": "code",
      "source": [
        "def generate_layer(x, y):\n",
        "  return np.random.normal(loc=0, scale=1, size=(x, y))"
      ],
      "metadata": {
        "id": "HforQ8Fy0Nbb"
      },
      "execution_count": 12,
      "outputs": []
    },
    {
      "cell_type": "code",
      "source": [
        "# Данный тест проверяет вашу реализацию\n",
        "assert generate_layer(5, 7).shape == (5, 7)"
      ],
      "metadata": {
        "id": "eLTcm6ln0Tm4"
      },
      "execution_count": 13,
      "outputs": []
    },
    {
      "cell_type": "code",
      "source": [
        "def loss(predicted, ground_truth):\n",
        "# binary crossentropy loss\n",
        "  return -np.mean(np.multiply(ground_truth, np.log(predicted)) + np.multiply(1 - ground_truth, np.log(1 - predicted)))"
      ],
      "metadata": {
        "id": "xAU1BFUd0izi"
      },
      "execution_count": 14,
      "outputs": []
    },
    {
      "cell_type": "code",
      "source": [
        "assert np.isclose(loss(0.5, 0), 0.6931471805599453)\n",
        "assert np.isclose(loss(0.1, 1), 2.3025850929940455)"
      ],
      "metadata": {
        "id": "ToLhhVI80kVh"
      },
      "execution_count": 15,
      "outputs": []
    },
    {
      "cell_type": "code",
      "source": [
        "def forward_pass(data, weights_layer1, weights_layer2):\n",
        "    # Предполагаем, что weights_layer1 и weights_layer2 - массивы весов корректных размеров\n",
        "    # Пропустим данные через первый слой \n",
        "  # в матричном случае это означает матричное умножение данных на веса\n",
        "  output1 = data.dot(weights_layer1)\n",
        "\n",
        "# Далее применим функцию активации к полученным данным\n",
        "  activation1 = sigmoid(output1)\n",
        " \n",
        "# Далее пропустим аналогичным образом данные через второй слой\n",
        "  output2 = activation1.dot(weights_layer2)\n",
        "\n",
        "# И снова применим функцию активации\n",
        "  activation2 = sigmoid(output2)\n",
        "\n",
        "# вернем полученный результат и \n",
        "  result = activation2\n",
        "  return result, (output1, activation1, output2, activation2)\n"
      ],
      "metadata": {
        "id": "TD1VIe6RFxrv"
      },
      "execution_count": 16,
      "outputs": []
    },
    {
      "cell_type": "code",
      "source": [
        "def back_propagation(x, y, weights_layer1, weights_layer2, learning_rate):\n",
        "    result, (output1, activation1, output2, activation2) = forward_pass(x, weights_layer1, weights_layer2) \n",
        "\n",
        "    d2 = (activation2 - y)\n",
        "    d1 = weights_layer2.dot(d2.T).T * sigmoid_grad(activation1)\n",
        " \n",
        "\n",
        "    w1_adj = x.T.dot(d1)\n",
        "    w2_adj = activation1.T.dot(d2)\n",
        "     \n",
        "\n",
        "    weights_layer1 = weights_layer1 - learning_rate * w1_adj\n",
        "    weights_layer2 = weights_layer2 - learning_rate * w2_adj\n",
        "     \n",
        "    return weights_layer1, weights_layer2"
      ],
      "metadata": {
        "id": "X6qoaUkxHBe_"
      },
      "execution_count": 17,
      "outputs": []
    },
    {
      "cell_type": "code",
      "source": [
        "def sigmoid_derivative(x):\n",
        "  return sigmoid(x) * (1 - sigmoid(x))    "
      ],
      "metadata": {
        "id": "UUUBiYIzRa76"
      },
      "execution_count": 18,
      "outputs": []
    },
    {
      "cell_type": "code",
      "source": [
        "def compute_output_layer_gradient(out_l2, y_i):\n",
        "  return out_l2 - y_i"
      ],
      "metadata": {
        "id": "6yOTXL32X9jV"
      },
      "execution_count": 37,
      "outputs": []
    },
    {
      "cell_type": "code",
      "source": [
        "def train(X, y, weights_layer1, weights_layer2, learning_rate = 0.01, epochs = 10):\n",
        "    dataset_size = len(X)\n",
        "    \n",
        "    # Создаем переменные для сохранения истории метрики и функции потерь\n",
        "   # Создаем переменные для сохранения истории метрики и функции потерь\n",
        "    accuracy_history = []\n",
        "    loss_history = []\n",
        "\n",
        "    for epoch in range(epochs):\n",
        "        epoch_loss = 0      # лосс текущей эпохи    \n",
        "        correct_amount = 0  # количество верно классифицированных элементов\n",
        "        \n",
        "        # перемешаем набор данных\n",
        "        random.shuffle(X)\n",
        "        \n",
        "        # будем последовательно брать каждый элемент \n",
        "        for i in range(dataset_size):\n",
        "            # Совершаем прямой проход, подавая i-й элемент массива признаков  \n",
        "            out, inter = forward_pass(X[i], weights_layer1, weights_layer2)\n",
        "            \n",
        "            # Добавляем значение функции потерь\n",
        "            epoch_loss += np.squeeze(loss(out, y[i]))\n",
        "            \n",
        "            # Проверяем, классифицирован ли объект верно (т.е. оценка ближе к верному классу, чем к неверному)\n",
        "            correct_amount += int(abs(np.squeeze(out) - y[i]) < 0.5)\n",
        "            \n",
        "            \n",
        "           # Осуществляем градиентный спуск, используя i-й элемент массива признаков и классов \n",
        "            weights_layer1, weights_layer2 =  back_propagation(X[i], y[i], weights_layer1, weights_layer2, learning_rate)\n",
        "            #weights_layer1, weights_layer2 =  back_propagation(X[i], y[i], weights_layer1, weights_layer2, learning_rate)\n",
        "        # Вычисляем точность на текущей эпохи и сохраняем данные\n",
        "        accuracy = correct_amount / dataset_size\n",
        "        accuracy_history.append(accuracy)\n",
        "        loss_history.append(epoch_loss)\n",
        "        print(f\"Epoch: {epoch + 1}/{epochs}, \\t ======== accuracy: {accuracy}, loss: {epoch_loss}\")\n",
        "\n",
        "    return accuracy_history, loss_history, (weights_layer1, weights_layer2)\n"
      ],
      "metadata": {
        "id": "7A4sCgiuHHgk"
      },
      "execution_count": 66,
      "outputs": []
    },
    {
      "cell_type": "code",
      "source": [
        "# Тест для проверки функции train\n",
        "test_x = [np.array([0.2, 0.3]).reshape(1, 2)]\n",
        "test_y = [np.array([0])]\n",
        "test_w1 = np.array([0.11, 0.12, 0.13, -0.31, 0.44, -0.2]).reshape(2, 3)\n",
        "test_w2 = np.array([0.33, -0.1, 0.95]).reshape(3, 1)\n",
        "\n",
        "test_acc_h, test_l_h, (new_test_w1, new_test_w2) = train(test_x, test_y, test_w1, test_w2, 1, 1)\n",
        "assert len(test_acc_h) == len(test_l_h) == 1\n",
        "assert np.isclose(test_acc_h[0], 0.0)\n",
        "assert np.isclose(test_l_h[0], 1.0196136855432536)\n",
        "assert test_w1.shape == new_test_w1.shape\n",
        "assert test_w2.shape == new_test_w2.shape\n",
        "assert np.allclose(new_test_w1, np.array([[0.10004239, 0.12297504, 0.10139734], [-0.32493642, 0.44446255, -0.24290399]]))\n",
        "assert np.allclose(new_test_w2, np.array([[0.02170934], [-0.44451379], [0.63580037]]))"
      ],
      "metadata": {
        "colab": {
          "base_uri": "https://localhost:8080/"
        },
        "id": "Wi2w1z8zSIBF",
        "outputId": "7010b617-5d21-4740-888d-ddd459df0405"
      },
      "execution_count": 67,
      "outputs": [
        {
          "output_type": "stream",
          "name": "stdout",
          "text": [
            "Epoch: 1/1, \t ======== accuracy: 0.0, loss: 1.0196136855432536\n"
          ]
        }
      ]
    },
    {
      "cell_type": "code",
      "source": [
        "# создадим слои нейронной сети с нужным количеством параметров\n",
        "layer1 = generate_layer(100, 32)  # в первом слое - 32 нейрона\n",
        "layer2 = generate_layer(32, 1)    # в втором слое - 1 нейрон\n",
        "\n",
        "# зададим learning rate и количество эпох\n",
        "learning_rate = 0.1\n",
        "epochs = 10\n",
        "\n",
        "# и запустим процесс обучения\n",
        "accuracy_history, loss_history, (layer1, layer2) = train(x, y, layer1, layer2, learning_rate, epochs)"
      ],
      "metadata": {
        "colab": {
          "base_uri": "https://localhost:8080/"
        },
        "id": "5cz8n-P6SO0c",
        "outputId": "be566ad3-9991-4fab-8c16-dde6f0bebf2d"
      },
      "execution_count": 73,
      "outputs": [
        {
          "output_type": "stream",
          "name": "stdout",
          "text": [
            "Epoch: 1/10, \t ======== accuracy: 0.5, loss: 12.837891721691307\n",
            "Epoch: 2/10, \t ======== accuracy: 0.25, loss: 6.36143099730004\n",
            "Epoch: 3/10, \t ======== accuracy: 0.25, loss: 3.2007119023505126\n",
            "Epoch: 4/10, \t ======== accuracy: 0.5, loss: 3.4442753819914143\n",
            "Epoch: 5/10, \t ======== accuracy: 0.25, loss: 4.405311900491025\n",
            "Epoch: 6/10, \t ======== accuracy: 0.5, loss: 2.7320307235764747\n",
            "Epoch: 7/10, \t ======== accuracy: 0.5, loss: 3.6753176772536396\n",
            "Epoch: 8/10, \t ======== accuracy: 0.25, loss: 4.879260576153227\n",
            "Epoch: 9/10, \t ======== accuracy: 0.25, loss: 4.874457919266094\n",
            "Epoch: 10/10, \t ======== accuracy: 0.25, loss: 3.989546505454196\n"
          ]
        }
      ]
    },
    {
      "cell_type": "code",
      "source": [
        "# изменим размер изображения в jupyter notebook\n",
        "plt.rcParams['figure.figsize'] = [10, 4]\n",
        "\n",
        "plt.figure()\n",
        "fig, axarr = plt.subplots(1, 2)\n",
        "axarr[0].plot(accuracy_history)\n",
        "axarr[0].set_ylabel('Accuracy')\n",
        "axarr[0].set_xlabel(\"Epochs:\")\n",
        "\n",
        "axarr[1].plot(loss_history)\n",
        "axarr[1].set_ylabel('Loss')\n",
        "axarr[1].set_xlabel(\"Epochs:\")\n",
        "\n",
        "plt.tight_layout()\n",
        "plt.show()\n"
      ],
      "metadata": {
        "colab": {
          "base_uri": "https://localhost:8080/",
          "height": 425
        },
        "id": "2qBfr0ZPFBNa",
        "outputId": "1101f424-939d-4aeb-ad91-4c4183488983"
      },
      "execution_count": 74,
      "outputs": [
        {
          "output_type": "display_data",
          "data": {
            "text/plain": [
              "<Figure size 1000x400 with 0 Axes>"
            ]
          },
          "metadata": {}
        },
        {
          "output_type": "display_data",
          "data": {
            "text/plain": [
              "<Figure size 1000x400 with 2 Axes>"
            ],
            "image/png": "[encoded data removed]"
          },
          "metadata": {}
        }
      ]
    },
    {
      "cell_type": "code",
      "source": [
        "def predict(x, weights_layer1, weights_layer2):\n",
        "    plt.figure()\n",
        "    fig, axarr = plt.subplots(1, len(x))\n",
        "    \n",
        "    for i, v in enumerate(x):\n",
        "        out, _ = forward_pass(v, weights_layer1, weights_layer2)\n",
        "        label = \"Домик\" if out[0][0] > 0.5 else \"Котик\"\n",
        "        axarr[i].imshow(v.reshape(10, 10))\n",
        "        axarr[i].set_title(label)\n",
        "        \n",
        "    plt.show()  "
      ],
      "metadata": {
        "id": "CUmlChO6FEOY"
      },
      "execution_count": 75,
      "outputs": []
    },
    {
      "cell_type": "code",
      "source": [
        "predict(x, layer1, layer2)"
      ],
      "metadata": {
        "colab": {
          "base_uri": "https://localhost:8080/",
          "height": 269
        },
        "id": "2e4jopfMFFo8",
        "outputId": "25133f8a-3eb2-4c08-99e9-f753cd0b2b1c"
      },
      "execution_count": 76,
      "outputs": [
        {
          "output_type": "display_data",
          "data": {
            "text/plain": [
              "<Figure size 1000x400 with 0 Axes>"
            ]
          },
          "metadata": {}
        },
        {
          "output_type": "display_data",
          "data": {
            "text/plain": [
              "<Figure size 1000x400 with 4 Axes>"
            ],
            "image/png": "[encoded data removed]"
          },
          "metadata": {}
        }
      ]
    },
    {
      "cell_type": "code",
      "source": [],
      "metadata": {
        "id": "W_qvUn-MVST6"
      },
      "execution_count": null,
      "outputs": []
    }
  ]
}