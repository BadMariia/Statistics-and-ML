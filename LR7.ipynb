{
  "nbformat": 4,
  "nbformat_minor": 0,
  "metadata": {
    "colab": {
      "provenance": []
    },
    "kernelspec": {
      "name": "python3",
      "display_name": "Python 3"
    },
    "language_info": {
      "name": "python"
    }
  },
  "cells": [
    {
      "cell_type": "code",
      "execution_count": 1,
      "metadata": {
        "id": "DPQTOP8c4g7d"
      },
      "outputs": [],
      "source": [
        "from sklearn import datasets\n",
        "from sklearn.model_selection import train_test_split\n",
        "from matplotlib import pyplot as plt\n",
        "import numpy as np\n",
        "import pandas as pd\n",
        "import seaborn as sns\n",
        "from sklearn.model_selection import train_test_split\n",
        "from sklearn.metrics import mean_squared_error, mean_absolute_error, r2_score"
      ]
    },
    {
      "cell_type": "code",
      "source": [
        "#Зададим координаты центров\n",
        "x1 = np.random.rand(500, 1)\n",
        "y1 = 5 * x1 + np.random.randn(500, 1) - 3"
      ],
      "metadata": {
        "id": "Mrs632Hkm8EV"
      },
      "execution_count": 2,
      "outputs": []
    },
    {
      "cell_type": "code",
      "source": [
        "df = pd.concat([pd.DataFrame(x1), pd.DataFrame(y1)], axis= 1 )"
      ],
      "metadata": {
        "id": "qNtBGypAo-lB"
      },
      "execution_count": 3,
      "outputs": []
    },
    {
      "cell_type": "code",
      "source": [
        "df.columns = ['x', 'y']"
      ],
      "metadata": {
        "id": "bl7KbwKUpqZx"
      },
      "execution_count": 4,
      "outputs": []
    },
    {
      "cell_type": "code",
      "source": [
        "df"
      ],
      "metadata": {
        "colab": {
          "base_uri": "https://localhost:8080/",
          "height": 423
        },
        "id": "r4M3UzeZp5-q",
        "outputId": "8474fab3-4969-4ed1-f0e9-1fece71f53ca"
      },
      "execution_count": 5,
      "outputs": [
        {
          "output_type": "execute_result",
          "data": {
            "text/plain": [
              "            x         y\n",
              "0    0.692120 -0.025354\n",
              "1    0.603176  1.477831\n",
              "2    0.584573  1.068615\n",
              "3    0.018166 -1.676828\n",
              "4    0.881110  1.197388\n",
              "..        ...       ...\n",
              "495  0.701687  0.584756\n",
              "496  0.917963  1.598545\n",
              "497  0.965170  1.494534\n",
              "498  0.417683 -2.767730\n",
              "499  0.180347 -0.642443\n",
              "\n",
              "[500 rows x 2 columns]"
            ],
            "text/html": [
              "\n",
              "  <div id=\"df-b4c1ced3-ea77-4557-b404-1a8b9ca9c954\">\n",
              "    <div class=\"colab-df-container\">\n",
              "      <div>\n",
              "<style scoped>\n",
              "    .dataframe tbody tr th:only-of-type {\n",
              "        vertical-align: middle;\n",
              "    }\n",
              "\n",
              "    .dataframe tbody tr th {\n",
              "        vertical-align: top;\n",
              "    }\n",
              "\n",
              "    .dataframe thead th {\n",
              "        text-align: right;\n",
              "    }\n",
              "</style>\n",
              "<table border=\"1\" class=\"dataframe\">\n",
              "  <thead>\n",
              "    <tr style=\"text-align: right;\">\n",
              "      <th></th>\n",
              "      <th>x</th>\n",
              "      <th>y</th>\n",
              "    </tr>\n",
              "  </thead>\n",
              "  <tbody>\n",
              "    <tr>\n",
              "      <th>0</th>\n",
              "      <td>0.692120</td>\n",
              "      <td>-0.025354</td>\n",
              "    </tr>\n",
              "    <tr>\n",
              "      <th>1</th>\n",
              "      <td>0.603176</td>\n",
              "      <td>1.477831</td>\n",
              "    </tr>\n",
              "    <tr>\n",
              "      <th>2</th>\n",
              "      <td>0.584573</td>\n",
              "      <td>1.068615</td>\n",
              "    </tr>\n",
              "    <tr>\n",
              "      <th>3</th>\n",
              "      <td>0.018166</td>\n",
              "      <td>-1.676828</td>\n",
              "    </tr>\n",
              "    <tr>\n",
              "      <th>4</th>\n",
              "      <td>0.881110</td>\n",
              "      <td>1.197388</td>\n",
              "    </tr>\n",
              "    <tr>\n",
              "      <th>...</th>\n",
              "      <td>...</td>\n",
              "      <td>...</td>\n",
              "    </tr>\n",
              "    <tr>\n",
              "      <th>495</th>\n",
              "      <td>0.701687</td>\n",
              "      <td>0.584756</td>\n",
              "    </tr>\n",
              "    <tr>\n",
              "      <th>496</th>\n",
              "      <td>0.917963</td>\n",
              "      <td>1.598545</td>\n",
              "    </tr>\n",
              "    <tr>\n",
              "      <th>497</th>\n",
              "      <td>0.965170</td>\n",
              "      <td>1.494534</td>\n",
              "    </tr>\n",
              "    <tr>\n",
              "      <th>498</th>\n",
              "      <td>0.417683</td>\n",
              "      <td>-2.767730</td>\n",
              "    </tr>\n",
              "    <tr>\n",
              "      <th>499</th>\n",
              "      <td>0.180347</td>\n",
              "      <td>-0.642443</td>\n",
              "    </tr>\n",
              "  </tbody>\n",
              "</table>\n",
              "<p>500 rows × 2 columns</p>\n",
              "</div>\n",
              "      <button class=\"colab-df-convert\" onclick=\"convertToInteractive('df-b4c1ced3-ea77-4557-b404-1a8b9ca9c954')\"\n",
              "              title=\"Convert this dataframe to an interactive table.\"\n",
              "              style=\"display:none;\">\n",
              "        \n",
              "  <svg xmlns=\"http://www.w3.org/2000/svg\" height=\"24px\"viewBox=\"0 0 24 24\"\n",
              "       width=\"24px\">\n",
              "    <path d=\"M0 0h24v24H0V0z\" fill=\"none\"/>\n",
              "    <path d=\"M18.56 5.44l.94 2.06.94-2.06 2.06-.94-2.06-.94-.94-2.06-.94 2.06-2.06.94zm-11 1L8.5 8.5l.94-2.06 2.06-.94-2.06-.94L8.5 2.5l-.94 2.06-2.06.94zm10 10l.94 2.06.94-2.06 2.06-.94-2.06-.94-.94-2.06-.94 2.06-2.06.94z\"/><path d=\"M17.41 7.96l-1.37-1.37c-.4-.4-.92-.59-1.43-.59-.52 0-1.04.2-1.43.59L10.3 9.45l-7.72 7.72c-.78.78-.78 2.05 0 2.83L4 21.41c.39.39.9.59 1.41.59.51 0 1.02-.2 1.41-.59l7.78-7.78 2.81-2.81c.8-.78.8-2.07 0-2.86zM5.41 20L4 18.59l7.72-7.72 1.47 1.35L5.41 20z\"/>\n",
              "  </svg>\n",
              "      </button>\n",
              "      \n",
              "  <style>\n",
              "    .colab-df-container {\n",
              "      display:flex;\n",
              "      flex-wrap:wrap;\n",
              "      gap: 12px;\n",
              "    }\n",
              "\n",
              "    .colab-df-convert {\n",
              "      background-color: #E8F0FE;\n",
              "      border: none;\n",
              "      border-radius: 50%;\n",
              "      cursor: pointer;\n",
              "      display: none;\n",
              "      fill: #1967D2;\n",
              "      height: 32px;\n",
              "      padding: 0 0 0 0;\n",
              "      width: 32px;\n",
              "    }\n",
              "\n",
              "    .colab-df-convert:hover {\n",
              "      background-color: #E2EBFA;\n",
              "      box-shadow: 0px 1px 2px rgba(60, 64, 67, 0.3), 0px 1px 3px 1px rgba(60, 64, 67, 0.15);\n",
              "      fill: #174EA6;\n",
              "    }\n",
              "\n",
              "    [theme=dark] .colab-df-convert {\n",
              "      background-color: #3B4455;\n",
              "      fill: #D2E3FC;\n",
              "    }\n",
              "\n",
              "    [theme=dark] .colab-df-convert:hover {\n",
              "      background-color: #434B5C;\n",
              "      box-shadow: 0px 1px 3px 1px rgba(0, 0, 0, 0.15);\n",
              "      filter: drop-shadow(0px 1px 2px rgba(0, 0, 0, 0.3));\n",
              "      fill: #FFFFFF;\n",
              "    }\n",
              "  </style>\n",
              "\n",
              "      <script>\n",
              "        const buttonEl =\n",
              "          document.querySelector('#df-b4c1ced3-ea77-4557-b404-1a8b9ca9c954 button.colab-df-convert');\n",
              "        buttonEl.style.display =\n",
              "          google.colab.kernel.accessAllowed ? 'block' : 'none';\n",
              "\n",
              "        async function convertToInteractive(key) {\n",
              "          const element = document.querySelector('#df-b4c1ced3-ea77-4557-b404-1a8b9ca9c954');\n",
              "          const dataTable =\n",
              "            await google.colab.kernel.invokeFunction('convertToInteractive',\n",
              "                                                     [key], {});\n",
              "          if (!dataTable) return;\n",
              "\n",
              "          const docLinkHtml = 'Like what you see? Visit the ' +\n",
              "            '<a target=\"_blank\" href=https://colab.research.google.com/notebooks/data_table.ipynb>data table notebook</a>'\n",
              "            + ' to learn more about interactive tables.';\n",
              "          element.innerHTML = '';\n",
              "          dataTable['output_type'] = 'display_data';\n",
              "          await google.colab.output.renderOutput(dataTable, element);\n",
              "          const docLink = document.createElement('div');\n",
              "          docLink.innerHTML = docLinkHtml;\n",
              "          element.appendChild(docLink);\n",
              "        }\n",
              "      </script>\n",
              "    </div>\n",
              "  </div>\n",
              "  "
            ]
          },
          "metadata": {},
          "execution_count": 5
        }
      ]
    },
    {
      "cell_type": "code",
      "source": [
        "sns.relplot(\n",
        "    data=df,\n",
        "    x=\"x\", y=\"y\", color = 'maroon')"
      ],
      "metadata": {
        "colab": {
          "base_uri": "https://localhost:8080/",
          "height": 524
        },
        "id": "hIDnOESPo5br",
        "outputId": "8a12b72c-9c64-4992-8d97-48f2f6b82351"
      },
      "execution_count": 6,
      "outputs": [
        {
          "output_type": "execute_result",
          "data": {
            "text/plain": [
              "<seaborn.axisgrid.FacetGrid at 0x7fa233751810>"
            ]
          },
          "metadata": {},
          "execution_count": 6
        },
        {
          "output_type": "display_data",
          "data": {
            "text/plain": [
              "<Figure size 500x500 with 1 Axes>"
            ],
            "image/png": "[encoded data removed]"
          },
          "metadata": {}
        }
      ]
    },
    {
      "cell_type": "code",
      "source": [
        "class FullyConnectedNetwork:\n",
        "    __REGULARIZATION_GRAD = {None: lambda _w: 0, \"l1\": lambda _w: np.sign(_w), \"l2\": lambda _w: 2*_w}\n",
        "    __REGULARIZATION_FUNC = {None: lambda _w: 0, \"l1\": lambda _w: np.abs(_w), \"l2\": lambda _w: _w ** 2}\n",
        "    __LOSS = 0\n",
        "    # создание нейронной сети: alpha — скорость обучения (шаг градиентного спуска), reg_type — тип регуляризации (если есть), lambda — параметр регуляризации; слои будут храниться в списке layers\n",
        "    def __init__(self, alpha=0.01, reg_type=None, lambda_=0):\n",
        "        self.__layers = list()\n",
        "        self.__alpha = alpha\n",
        "        self.__reg_type = reg_type\n",
        "        self.__lambda = lambda_\n",
        "\n",
        "    # метод, позволяющий добавить новый слой: указываем правильные размеры слоя, название функции активации, class_number — количество классов в случае использования Sotmax'а на последнем слое, параметр a — параметр LeakyReLU\n",
        "    def add_layer(self, size: tuple, activation_func: str, class_number=0, a=0, loss=''):\n",
        "        if not self.__layers or self.__layers[-1].size[1] == size[0]:\n",
        "            self.__layers.append(FullyConnectedLayer(size, activation_func, class_number, a,loss))\n",
        "        else:\n",
        "            raise Exception(\"Wrong size of the layer!\")\n",
        "\n",
        "    def change_alpha(self, alpha):\n",
        "        self.__alpha = alpha\n",
        "\n",
        "    def get_loss(self):\n",
        "        return FullyConnectedNetwork.__LOSS\n",
        "\n",
        "    def mse_loss(self, predicted, target):\n",
        "        return np.mean((predicted - target) ** 2)\n",
        "\n",
        "    # метод, выдающий предсказания для заданного набора данных после обучения модели\n",
        "    def predict(self, data):\n",
        "        current_output = data\n",
        "        for layer in self.__layers[:-1]:\n",
        "            current_output, _ = layer.forward(current_output, None)\n",
        "        # отдельно обрабатываем последний слой\n",
        "        layer_weights, layer_biases = self.__layers[-1].get_weights()\n",
        "        current_output = np.matmul(current_output, layer_weights) - layer_biases\n",
        "        _exp_outputs = np.exp(current_output - np.amax(current_output))\n",
        "        answ = np.transpose(np.transpose(_exp_outputs) / np.sum(_exp_outputs, axis=1))\n",
        "        return np.array([np.argmax(_row) for _row in answ])\n",
        "\n",
        "    def score(self, data, answers):\n",
        "        return (self.predict(data) == answers).sum() / len(answers)\n",
        "\n",
        "    def fit(self, data, answers):\n",
        "        # выход входного слоя совпадает с фичами входных данных\n",
        "        layer_outputs = [data]\n",
        "        current_output = layer_outputs[0]\n",
        "        grads = []\n",
        "        # forward pass и вычисление градиентов функций активации\n",
        "        for layer in self.__layers:\n",
        "            current_output, gradient = layer.forward(current_output, answers)\n",
        "            layer_outputs.append(current_output)\n",
        "            grads.append(gradient)\n",
        "        # для вычисления градиентов по правилу цепочки, удобно развернуть массив\n",
        "        grads = grads[::-1]\n",
        "        # для градиента параметров самого первого слоя, умножаем на «производную» независимой переменной\n",
        "        grads.append(1)\n",
        "        current_gradient = grads[0]\n",
        "        FullyConnectedNetwork.__LOSS = layer_outputs[-1]\n",
        "        for i, layer in enumerate(self.__layers[::-1]):\n",
        "            layer_weights, layer_biases = layer.get_weights()\n",
        "            FullyConnectedNetwork.__LOSS += self.__lambda * (np.sum(FullyConnectedNetwork.__REGULARIZATION_FUNC[self.__reg_type](layer_weights) + FullyConnectedNetwork.__REGULARIZATION_FUNC[self.__reg_type](layer_biases)))\n",
        "            # вычисление градиента параметров W слоя layer\n",
        "            d_weights = np.matmul(layer_outputs[-2 - i].T, current_gradient)\n",
        "            # вычисление градиента параметров db слоя layer\n",
        "            d_bias = -np.matmul(np.ones(layer_outputs[-2 - i].shape[0]), current_gradient) / layer_outputs[-2 - i].shape[0]\n",
        "            # Вставьте здесь вычисление функции ошибки MSE или MAE\n",
        "            loss = self.mse_loss(current_output, answers)  # или self.mae_loss(current_output, answers)\n",
        "            # выполнение шага градиентного спуска\n",
        "            layer.update_weights(self.__alpha * (d_weights + self.__lambda * FullyConnectedNetwork.__REGULARIZATION_GRAD[self.__reg_type](layer_weights)) , self.__alpha * (d_bias + self.__lambda * FullyConnectedNetwork.__REGULARIZATION_GRAD[self.__reg_type](layer_biases)))\n",
        "            # правило цепочки\n",
        "            current_gradient = np.matmul(current_gradient, layer_weights.T) * grads[i + 1]\n",
        "\n",
        "    def predict_reg(self, data):\n",
        "            current_output = data\n",
        "            for layer in self.__layers[:-1]:\n",
        "                current_output, _ = layer.forward(current_output, None)\n",
        "            layer_weights, layer_biases = self.__layers[-1].get_weights()\n",
        "            return np.matmul(current_output, layer_weights) - layer_biases\n",
        "\n",
        "    # метод для отрисовки весов, первый параметр должен быть квадратом целого числа\n",
        "    def print_weights(self, label=\"No label\"):\n",
        "        for layer in self.__layers:\n",
        "            _pixel_weights, _bias = layer.get_weights()\n",
        "            size = tuple([int(round((_pixel_weights.shape[0] - 1) ** 0.5)) for _ in range(2)])\n",
        "            fig, axes = plt.subplots(ncols=5, nrows=2)\n",
        "            fig.set_size_inches(20, 10)\n",
        "            for j in range(10):\n",
        "                axes[j // 5, j % 5].imshow((_pixel_weights[:, j]).reshape(size), cmap=plt.cm.gray, label=label)\n",
        "\n",
        "    def mse_loss(self, predicted, target):\n",
        "        return np.mean((predicted - target) ** 2)\n",
        "\n",
        "    def mae_loss(self, predicted, target):\n",
        "        return np.mean(np.abs(predicted - target))\n",
        "\n",
        "# класс, отвечающий за слой в нейронной сети\n",
        "class FullyConnectedLayer:\n",
        "    # мы предполагаем, что реализованы следующие функции активации, на последнем слое возможно решение задачи классификации с Softmax\n",
        "    __ACTIVATION_FUNCTIONS = {'ReLU': {'func': lambda a, x: np.maximum(x, 0), 'derivative': lambda a, x: np.where(x >= 0, 1, 0)},\n",
        "                              'LReLU': {'func': lambda a, x: np.where(x >= 0, x, a*x), 'derivative': lambda a, x: np.where(x >= 0, 1, a)},\n",
        "                              'None': {'func': lambda a, x: x, 'derivative': lambda a, x: 1},\n",
        "                              'Sigmoid': {'func': lambda a, x: np.exp(x) / (1 + np.exp(x)), 'derivative': lambda a, x: np.exp(x) / (1 + np.exp(x)) ** 2},\n",
        "                              'Softmax': {}}\n",
        "    # создание нового слоя: задание размеров слоя, случайная (равномерная на [-1/2, 1/2]) инициализация весов, запоминание функции активации, фиксация количества классов в случае решения задачи классификации\n",
        "    def __init__(self, size: tuple, activation_func: str, class_number=0, a=0, loss=''):\n",
        "        self.size = size\n",
        "        self.__weights = np.random.random((size[0], size[1])) - 0.5\n",
        "        self.__bias = np.random.random((1, size[1])) - 0.5\n",
        "        self.__a = a\n",
        "        if activation_func in FullyConnectedLayer.__ACTIVATION_FUNCTIONS.keys():\n",
        "            self.__activation_func = activation_func\n",
        "        else:\n",
        "            raise Exception(\"No such activation function!\")\n",
        "        if activation_func == 'Softmax':\n",
        "            self.__class_number = class_number\n",
        "        if activation_func == 'None':\n",
        "            self.__loss = loss\n",
        "\n",
        "    # метод, возвращающий значения весов: веса и смещения\n",
        "    def get_weights(self):\n",
        "        return self.__weights, self.__bias\n",
        "\n",
        "    def get_activation_func(self):\n",
        "        return self.__activation_func\n",
        "\n",
        "    # метод, модифицирующий веса после градиентного шага\n",
        "    def update_weights(self, d_weights, d_biases):\n",
        "        self.__weights -= d_weights\n",
        "        self.__bias -= d_biases\n",
        "\n",
        "    # метод, возвращающий градиент\n",
        "    def __get_grad(self, data, answers):\n",
        "        if self.__activation_func == 'Softmax':\n",
        "            return - (self.__one_hot(answers) - self.__get_probabilities(data)) / len(answers)\n",
        "        else:\n",
        "            return FullyConnectedLayer.__ACTIVATION_FUNCTIONS[self.__activation_func]['derivative'](self.__a, data)\n",
        "\n",
        "    # one-hot encoding меток класса\n",
        "    def __one_hot(self, answers):\n",
        "        one_hot_answers = np.zeros((len(answers), self.__class_number))\n",
        "        one_hot_answers[np.arange(len(answers)), answers] = 1\n",
        "        return one_hot_answers\n",
        "\n",
        "    # метод, возвращающий вероятности после Softmax'a\n",
        "    def __get_probabilities(self, data):\n",
        "        _outputs = np.matmul(data, self.__weights) - self.__bias\n",
        "        _gamma = np.amax(_outputs)\n",
        "        _exp_outputs = np.exp(_outputs - _gamma)\n",
        "        return np.transpose(np.transpose(_exp_outputs) / np.sum(_exp_outputs, axis=1))\n",
        "\n",
        "    def __mse_loss_grad(self, prediction, answers):\n",
        "      activation =  np.mean((prediction - answers.reshape(-1,1)) ** 2)\n",
        "      gradient = 2 * (prediction - answers.reshape(-1,1)) / len(answers)\n",
        "      return activation, gradient\n",
        "\n",
        "    def __mae_loss_grad(self, prediction, answers):\n",
        "      activation =  np.mean(np.abs(prediction - answers.reshape(-1,1)))\n",
        "      gradient = np.sign(prediction - answers.reshape(-1,1)) / len(answers)\n",
        "      return activation, gradient\n",
        "\n",
        "    # проход по слою с вычислением градиента функции активации на текущей итерации и текущем наборе данных, для последнего слоя нет нужды вычислять значение, если только не хочется узнать что-то про функцию потерь\n",
        "    def forward(self, data, answers):\n",
        "        if self.__activation_func == 'Softmax':\n",
        "            matrix_pass = np.matmul(data, self.__weights) - self.__bias\n",
        "            activation = - np.sum(matrix_pass * self.__one_hot(answers) - np.log(np.sum(np.exp(matrix_pass)))) / len(answers)\n",
        "            gradient = self.__get_grad(data, answers)\n",
        "        elif self.__activation_func ==\"None\":\n",
        "            matrix_pass = np.matmul(data, self.__weights) - self.__bias\n",
        "            if self.__loss == 'MSE':\n",
        "                activation, gradient = self.__mse_loss_grad(matrix_pass, answers)\n",
        "            elif self.__loss == 'MAE':\n",
        "                activation, gradient = self.__mae_loss_grad(matrix_pass, answers)\n",
        "            else:\n",
        "                raise Exception(\"No such loss function\")\n",
        "        else:\n",
        "            matrix_pass = np.matmul(data, self.__weights) - self.__bias\n",
        "            activation = FullyConnectedLayer.__ACTIVATION_FUNCTIONS[self.__activation_func]['func'](self.__a, matrix_pass)\n",
        "            gradient = self.__get_grad(matrix_pass, answers)\n",
        "        return activation, gradient"
      ],
      "metadata": {
        "id": "9WLafHpc4rN_"
      },
      "execution_count": 7,
      "outputs": []
    },
    {
      "cell_type": "code",
      "source": [
        "#loss = self.mse_loss(predicted, answers)  # вычисляем функцию ошибки MSE\n",
        "#mnist_dataset = datasets.load_digits()"
      ],
      "metadata": {
        "id": "pI2dG_HL45GS"
      },
      "execution_count": 8,
      "outputs": []
    },
    {
      "cell_type": "markdown",
      "source": [
        "MSE"
      ],
      "metadata": {
        "id": "7aZ_IfNsqdyY"
      }
    },
    {
      "cell_type": "code",
      "source": [
        "NN = FullyConnectedNetwork(alpha=0.1, reg_type='l2', lambda_=0.002)\n",
        "loss = []\n",
        "NN.add_layer((1, 48), activation_func='ReLU')\n",
        "NN.add_layer((48, 1), activation_func='None', loss='MSE')\n",
        "alpha = 0.1\n",
        "for ep in range(1000):\n",
        "    NN.fit(x1, y1)\n",
        "    loss.append((ep, NN.get_loss()))\n",
        "    if (ep + 1) % 100 == 0:\n",
        "        alpha = alpha / 10\n",
        "        NN.change_alpha(alpha)\n",
        "        print('R2:',  r2_score(y1, NN.predict_reg(x1)), 'MSE:',  mean_squared_error(y1, NN.predict_reg(x1)))"
      ],
      "metadata": {
        "colab": {
          "base_uri": "https://localhost:8080/"
        },
        "id": "3JzoPYm2qcPG",
        "outputId": "bcbca8bf-25f4-4712-8a18-46ec60836e8c"
      },
      "execution_count": 9,
      "outputs": [
        {
          "output_type": "stream",
          "name": "stdout",
          "text": [
            "R2: 0.6857635986257791 MSE: 1.0377930815132967\n",
            "R2: 0.6858325993265394 MSE: 1.0375652006899567\n",
            "R2: 0.6858388698301155 MSE: 1.0375444918058159\n",
            "R2: 0.6858395043518559 MSE: 1.0375423962425092\n",
            "R2: 0.6858395677860971 MSE: 1.0375421867454038\n",
            "R2: 0.6858395741293419 MSE: 1.037542165796285\n",
            "R2: 0.6858395747636646 MSE: 1.0375421637013793\n",
            "R2: 0.6858395748270968 MSE: 1.0375421634918889\n",
            "R2: 0.68583957483344 MSE: 1.0375421634709399\n",
            "R2: 0.6858395748340744 MSE: 1.0375421634688449\n"
          ]
        }
      ]
    },
    {
      "cell_type": "code",
      "source": [
        "from sklearn.linear_model import LinearRegression\n",
        "model = LinearRegression()\n",
        "model.fit(x1, y1)\n",
        "print('R2: ', model.score(x1, y1))"
      ],
      "metadata": {
        "colab": {
          "base_uri": "https://localhost:8080/"
        },
        "id": "knXf6hOAsXMS",
        "outputId": "db49fc9f-acda-4a33-b111-f22d2c1c23f7"
      },
      "execution_count": 10,
      "outputs": [
        {
          "output_type": "stream",
          "name": "stdout",
          "text": [
            "R2:  0.687344428647928\n"
          ]
        }
      ]
    },
    {
      "cell_type": "code",
      "source": [
        "plt.scatter(x1, y1, label='data', color = 'maroon')\n",
        "plt.plot(x1, NN.predict_reg(x1), color = 'violet')\n",
        "plt.plot(x1, model.predict(x1), color='yellow', label='LR predicted')\n",
        "plt.xlabel('X')\n",
        "plt.ylabel('y')\n",
        "plt.legend()\n",
        "plt.show()"
      ],
      "metadata": {
        "id": "GTl10mqV5uLS",
        "colab": {
          "base_uri": "https://localhost:8080/",
          "height": 449
        },
        "outputId": "2519ad67-e576-460c-b68a-6d2ee7ce7d4f"
      },
      "execution_count": 26,
      "outputs": [
        {
          "output_type": "display_data",
          "data": {
            "text/plain": [
              "<Figure size 640x480 with 1 Axes>"
            ],
            "image/png": "[encoded data removed]"
          },
          "metadata": {}
        }
      ]
    },
    {
      "cell_type": "code",
      "source": [],
      "metadata": {
        "id": "RsuJWGe3x3k0"
      },
      "execution_count": null,
      "outputs": []
    }
  ]
}