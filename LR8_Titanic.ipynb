{
  "nbformat": 4,
  "nbformat_minor": 0,
  "metadata": {
    "colab": {
      "provenance": []
    },
    "kernelspec": {
      "name": "python3",
      "display_name": "Python 3"
    },
    "language_info": {
      "name": "python"
    }
  },
  "cells": [
    {
      "cell_type": "code",
      "execution_count": 1,
      "metadata": {
        "colab": {
          "base_uri": "https://localhost:8080/"
        },
        "id": "UZbxyo2ikSDF",
        "outputId": "34a4c1f0-9765-4dad-aa72-8579b9d6f782"
      },
      "outputs": [
        {
          "output_type": "stream",
          "name": "stdout",
          "text": [
            "Looking in indexes: https://pypi.org/simple, https://us-python.pkg.dev/colab-wheels/public/simple/\n",
            "Requirement already satisfied: numpy in /usr/local/lib/python3.10/dist-packages (1.22.4)\n",
            "Requirement already satisfied: tensorflow_datasets in /usr/local/lib/python3.10/dist-packages (4.9.2)\n",
            "Requirement already satisfied: tensorflow in /usr/local/lib/python3.10/dist-packages (2.12.0)\n",
            "Requirement already satisfied: absl-py in /usr/local/lib/python3.10/dist-packages (from tensorflow_datasets) (1.4.0)\n",
            "Requirement already satisfied: array-record in /usr/local/lib/python3.10/dist-packages (from tensorflow_datasets) (0.3.0)\n",
            "Requirement already satisfied: click in /usr/local/lib/python3.10/dist-packages (from tensorflow_datasets) (8.1.3)\n",
            "Requirement already satisfied: dm-tree in /usr/local/lib/python3.10/dist-packages (from tensorflow_datasets) (0.1.8)\n",
            "Requirement already satisfied: etils[enp,epath]>=0.9.0 in /usr/local/lib/python3.10/dist-packages (from tensorflow_datasets) (1.3.0)\n",
            "Requirement already satisfied: promise in /usr/local/lib/python3.10/dist-packages (from tensorflow_datasets) (2.3)\n",
            "Requirement already satisfied: protobuf>=3.20 in /usr/local/lib/python3.10/dist-packages (from tensorflow_datasets) (3.20.3)\n",
            "Requirement already satisfied: psutil in /usr/local/lib/python3.10/dist-packages (from tensorflow_datasets) (5.9.5)\n",
            "Requirement already satisfied: requests>=2.19.0 in /usr/local/lib/python3.10/dist-packages (from tensorflow_datasets) (2.27.1)\n",
            "Requirement already satisfied: tensorflow-metadata in /usr/local/lib/python3.10/dist-packages (from tensorflow_datasets) (1.13.1)\n",
            "Requirement already satisfied: termcolor in /usr/local/lib/python3.10/dist-packages (from tensorflow_datasets) (2.3.0)\n",
            "Requirement already satisfied: toml in /usr/local/lib/python3.10/dist-packages (from tensorflow_datasets) (0.10.2)\n",
            "Requirement already satisfied: tqdm in /usr/local/lib/python3.10/dist-packages (from tensorflow_datasets) (4.65.0)\n",
            "Requirement already satisfied: wrapt in /usr/local/lib/python3.10/dist-packages (from tensorflow_datasets) (1.14.1)\n",
            "Requirement already satisfied: astunparse>=1.6.0 in /usr/local/lib/python3.10/dist-packages (from tensorflow) (1.6.3)\n",
            "Requirement already satisfied: flatbuffers>=2.0 in /usr/local/lib/python3.10/dist-packages (from tensorflow) (23.5.26)\n",
            "Requirement already satisfied: gast<=0.4.0,>=0.2.1 in /usr/local/lib/python3.10/dist-packages (from tensorflow) (0.4.0)\n",
            "Requirement already satisfied: google-pasta>=0.1.1 in /usr/local/lib/python3.10/dist-packages (from tensorflow) (0.2.0)\n",
            "Requirement already satisfied: grpcio<2.0,>=1.24.3 in /usr/local/lib/python3.10/dist-packages (from tensorflow) (1.54.2)\n",
            "Requirement already satisfied: h5py>=2.9.0 in /usr/local/lib/python3.10/dist-packages (from tensorflow) (3.8.0)\n",
            "Requirement already satisfied: jax>=0.3.15 in /usr/local/lib/python3.10/dist-packages (from tensorflow) (0.4.10)\n",
            "Requirement already satisfied: keras<2.13,>=2.12.0 in /usr/local/lib/python3.10/dist-packages (from tensorflow) (2.12.0)\n",
            "Requirement already satisfied: libclang>=13.0.0 in /usr/local/lib/python3.10/dist-packages (from tensorflow) (16.0.0)\n",
            "Requirement already satisfied: opt-einsum>=2.3.2 in /usr/local/lib/python3.10/dist-packages (from tensorflow) (3.3.0)\n",
            "Requirement already satisfied: packaging in /usr/local/lib/python3.10/dist-packages (from tensorflow) (23.1)\n",
            "Requirement already satisfied: setuptools in /usr/local/lib/python3.10/dist-packages (from tensorflow) (67.7.2)\n",
            "Requirement already satisfied: six>=1.12.0 in /usr/local/lib/python3.10/dist-packages (from tensorflow) (1.16.0)\n",
            "Requirement already satisfied: tensorboard<2.13,>=2.12 in /usr/local/lib/python3.10/dist-packages (from tensorflow) (2.12.3)\n",
            "Requirement already satisfied: tensorflow-estimator<2.13,>=2.12.0 in /usr/local/lib/python3.10/dist-packages (from tensorflow) (2.12.0)\n",
            "Requirement already satisfied: typing-extensions>=3.6.6 in /usr/local/lib/python3.10/dist-packages (from tensorflow) (4.6.3)\n",
            "Requirement already satisfied: tensorflow-io-gcs-filesystem>=0.23.1 in /usr/local/lib/python3.10/dist-packages (from tensorflow) (0.32.0)\n",
            "Requirement already satisfied: wheel<1.0,>=0.23.0 in /usr/local/lib/python3.10/dist-packages (from astunparse>=1.6.0->tensorflow) (0.40.0)\n",
            "Requirement already satisfied: importlib_resources in /usr/local/lib/python3.10/dist-packages (from etils[enp,epath]>=0.9.0->tensorflow_datasets) (5.12.0)\n",
            "Requirement already satisfied: zipp in /usr/local/lib/python3.10/dist-packages (from etils[enp,epath]>=0.9.0->tensorflow_datasets) (3.15.0)\n",
            "Requirement already satisfied: ml-dtypes>=0.1.0 in /usr/local/lib/python3.10/dist-packages (from jax>=0.3.15->tensorflow) (0.2.0)\n",
            "Requirement already satisfied: scipy>=1.7 in /usr/local/lib/python3.10/dist-packages (from jax>=0.3.15->tensorflow) (1.10.1)\n",
            "Requirement already satisfied: urllib3<1.27,>=1.21.1 in /usr/local/lib/python3.10/dist-packages (from requests>=2.19.0->tensorflow_datasets) (1.26.16)\n",
            "Requirement already satisfied: certifi>=2017.4.17 in /usr/local/lib/python3.10/dist-packages (from requests>=2.19.0->tensorflow_datasets) (2023.5.7)\n",
            "Requirement already satisfied: charset-normalizer~=2.0.0 in /usr/local/lib/python3.10/dist-packages (from requests>=2.19.0->tensorflow_datasets) (2.0.12)\n",
            "Requirement already satisfied: idna<4,>=2.5 in /usr/local/lib/python3.10/dist-packages (from requests>=2.19.0->tensorflow_datasets) (3.4)\n",
            "Requirement already satisfied: google-auth<3,>=1.6.3 in /usr/local/lib/python3.10/dist-packages (from tensorboard<2.13,>=2.12->tensorflow) (2.17.3)\n",
            "Requirement already satisfied: google-auth-oauthlib<1.1,>=0.5 in /usr/local/lib/python3.10/dist-packages (from tensorboard<2.13,>=2.12->tensorflow) (1.0.0)\n",
            "Requirement already satisfied: markdown>=2.6.8 in /usr/local/lib/python3.10/dist-packages (from tensorboard<2.13,>=2.12->tensorflow) (3.4.3)\n",
            "Requirement already satisfied: tensorboard-data-server<0.8.0,>=0.7.0 in /usr/local/lib/python3.10/dist-packages (from tensorboard<2.13,>=2.12->tensorflow) (0.7.1)\n",
            "Requirement already satisfied: werkzeug>=1.0.1 in /usr/local/lib/python3.10/dist-packages (from tensorboard<2.13,>=2.12->tensorflow) (2.3.6)\n",
            "Requirement already satisfied: googleapis-common-protos<2,>=1.52.0 in /usr/local/lib/python3.10/dist-packages (from tensorflow-metadata->tensorflow_datasets) (1.59.1)\n",
            "Requirement already satisfied: cachetools<6.0,>=2.0.0 in /usr/local/lib/python3.10/dist-packages (from google-auth<3,>=1.6.3->tensorboard<2.13,>=2.12->tensorflow) (5.3.1)\n",
            "Requirement already satisfied: pyasn1-modules>=0.2.1 in /usr/local/lib/python3.10/dist-packages (from google-auth<3,>=1.6.3->tensorboard<2.13,>=2.12->tensorflow) (0.3.0)\n",
            "Requirement already satisfied: rsa<5,>=3.1.4 in /usr/local/lib/python3.10/dist-packages (from google-auth<3,>=1.6.3->tensorboard<2.13,>=2.12->tensorflow) (4.9)\n",
            "Requirement already satisfied: requests-oauthlib>=0.7.0 in /usr/local/lib/python3.10/dist-packages (from google-auth-oauthlib<1.1,>=0.5->tensorboard<2.13,>=2.12->tensorflow) (1.3.1)\n",
            "Requirement already satisfied: MarkupSafe>=2.1.1 in /usr/local/lib/python3.10/dist-packages (from werkzeug>=1.0.1->tensorboard<2.13,>=2.12->tensorflow) (2.1.3)\n",
            "Requirement already satisfied: pyasn1<0.6.0,>=0.4.6 in /usr/local/lib/python3.10/dist-packages (from pyasn1-modules>=0.2.1->google-auth<3,>=1.6.3->tensorboard<2.13,>=2.12->tensorflow) (0.5.0)\n",
            "Requirement already satisfied: oauthlib>=3.0.0 in /usr/local/lib/python3.10/dist-packages (from requests-oauthlib>=0.7.0->google-auth-oauthlib<1.1,>=0.5->tensorboard<2.13,>=2.12->tensorflow) (3.2.2)\n"
          ]
        }
      ],
      "source": [
        "!pip install numpy tensorflow_datasets tensorflow"
      ]
    },
    {
      "cell_type": "code",
      "source": [
        "import tensorflow_datasets as tfds\n",
        "df_train, df_valid, df_test = tfds.load(\n",
        "    name='titanic',\n",
        "    split=['train[:80%]', 'train[80%:90%]', 'train[90%:]'],\n",
        "    as_supervised=True\n",
        ")"
      ],
      "metadata": {
        "colab": {
          "base_uri": "https://localhost:8080/"
        },
        "id": "s1ImsETTmNa9",
        "outputId": "5d56a744-a5b4-4f29-96ce-2776717d0bb7"
      },
      "execution_count": 2,
      "outputs": [
        {
          "output_type": "stream",
          "name": "stderr",
          "text": [
            "WARNING:absl:You use TensorFlow DType <dtype: 'string'> in tfds.features This will soon be deprecated in favor of NumPy DTypes. In the meantime it was converted to object.\n",
            "WARNING:absl:You use TensorFlow DType <dtype: 'float32'> in tfds.features This will soon be deprecated in favor of NumPy DTypes. In the meantime it was converted to float32.\n",
            "WARNING:absl:You use TensorFlow DType <dtype: 'int32'> in tfds.features This will soon be deprecated in favor of NumPy DTypes. In the meantime it was converted to int32.\n"
          ]
        }
      ]
    },
    {
      "cell_type": "code",
      "source": [
        "for x, y in df_train.take(1):\n",
        "    print(f\"{x=}\")\n",
        "    print(f\"{y=}\")"
      ],
      "metadata": {
        "colab": {
          "base_uri": "https://localhost:8080/"
        },
        "id": "3iJ53Vx6mNY6",
        "outputId": "3941cda8-55d4-4dc8-84b1-ff077777f35a"
      },
      "execution_count": 3,
      "outputs": [
        {
          "output_type": "stream",
          "name": "stdout",
          "text": [
            "x={'age': <tf.Tensor: shape=(), dtype=float32, numpy=30.0>, 'boat': <tf.Tensor: shape=(), dtype=string, numpy=b'Unknown'>, 'body': <tf.Tensor: shape=(), dtype=int32, numpy=-1>, 'cabin': <tf.Tensor: shape=(), dtype=string, numpy=b'Unknown'>, 'embarked': <tf.Tensor: shape=(), dtype=int64, numpy=2>, 'fare': <tf.Tensor: shape=(), dtype=float32, numpy=13.0>, 'home.dest': <tf.Tensor: shape=(), dtype=string, numpy=b'Sarnia, ON'>, 'name': <tf.Tensor: shape=(), dtype=string, numpy=b'McCrie, Mr. James Matthew'>, 'parch': <tf.Tensor: shape=(), dtype=int32, numpy=0>, 'pclass': <tf.Tensor: shape=(), dtype=int64, numpy=1>, 'sex': <tf.Tensor: shape=(), dtype=int64, numpy=0>, 'sibsp': <tf.Tensor: shape=(), dtype=int32, numpy=0>, 'ticket': <tf.Tensor: shape=(), dtype=string, numpy=b'233478'>}\n",
            "y=<tf.Tensor: shape=(), dtype=int64, numpy=0>\n"
          ]
        }
      ]
    },
    {
      "cell_type": "code",
      "source": [
        "import numpy as np\n",
        "import tensorflow as tf\n",
        "from tensorflow import keras\n",
        "import pandas as pd\n",
        "from sklearn.preprocessing import StandardScaler\n",
        "from sklearn.metrics import accuracy_score, precision_score, recall_score, f1_score, classification_report\n",
        "from sklearn.metrics import confusion_matrix,  ConfusionMatrixDisplay\n",
        "import tensorflow_datasets as tfds\n",
        "import seaborn as sns\n",
        "import matplotlib.pyplot as plt\n",
        "%matplotlib inline\n",
        "sns.set(rc={'figure.figsize':(18, 5)})\n",
        "import plotly.express as px"
      ],
      "metadata": {
        "id": "WY5irFrRmNVG"
      },
      "execution_count": 4,
      "outputs": []
    },
    {
      "cell_type": "code",
      "source": [
        "from keras import layers\n",
        "from keras import activations\n",
        "from keras import optimizers"
      ],
      "metadata": {
        "id": "Q56leMjaMDd-"
      },
      "execution_count": 5,
      "outputs": []
    },
    {
      "cell_type": "code",
      "source": [
        "from keras import metrics\n",
        "from keras import losses"
      ],
      "metadata": {
        "id": "BaSx69g3MN9i"
      },
      "execution_count": 6,
      "outputs": []
    },
    {
      "cell_type": "code",
      "source": [
        "for x, y in df_train.take(1):\n",
        "    print(f\"{x=}\")\n",
        "    print('\\n')\n",
        "    print(f\"{y=}\")"
      ],
      "metadata": {
        "colab": {
          "base_uri": "https://localhost:8080/"
        },
        "id": "1RRRu1bcmNRK",
        "outputId": "af18c118-4f8e-4e53-d0cc-8e1c2c285126"
      },
      "execution_count": 7,
      "outputs": [
        {
          "output_type": "stream",
          "name": "stdout",
          "text": [
            "x={'age': <tf.Tensor: shape=(), dtype=float32, numpy=30.0>, 'boat': <tf.Tensor: shape=(), dtype=string, numpy=b'Unknown'>, 'body': <tf.Tensor: shape=(), dtype=int32, numpy=-1>, 'cabin': <tf.Tensor: shape=(), dtype=string, numpy=b'Unknown'>, 'embarked': <tf.Tensor: shape=(), dtype=int64, numpy=2>, 'fare': <tf.Tensor: shape=(), dtype=float32, numpy=13.0>, 'home.dest': <tf.Tensor: shape=(), dtype=string, numpy=b'Sarnia, ON'>, 'name': <tf.Tensor: shape=(), dtype=string, numpy=b'McCrie, Mr. James Matthew'>, 'parch': <tf.Tensor: shape=(), dtype=int32, numpy=0>, 'pclass': <tf.Tensor: shape=(), dtype=int64, numpy=1>, 'sex': <tf.Tensor: shape=(), dtype=int64, numpy=0>, 'sibsp': <tf.Tensor: shape=(), dtype=int32, numpy=0>, 'ticket': <tf.Tensor: shape=(), dtype=string, numpy=b'233478'>}\n",
            "\n",
            "\n",
            "y=<tf.Tensor: shape=(), dtype=int64, numpy=0>\n"
          ]
        }
      ]
    },
    {
      "cell_type": "code",
      "source": [
        "df_x_train = pd.DataFrame([i[0] for i in df_train.as_numpy_iterator()])\n",
        "df_x_val = pd.DataFrame([i[0] for i in df_valid.as_numpy_iterator()])\n",
        "df_x_test = pd.DataFrame([i[0] for i in df_test.as_numpy_iterator()])\n",
        "\n",
        "df_y_train = pd.DataFrame([i[1] for i in df_train.as_numpy_iterator()])\n",
        "df_y_val = pd.DataFrame([i[1] for i in df_valid.as_numpy_iterator()])\n",
        "df_y_test = pd.DataFrame([i[1] for i in df_test.as_numpy_iterator()])\n"
      ],
      "metadata": {
        "id": "cEau8j_xpRfx"
      },
      "execution_count": 8,
      "outputs": []
    },
    {
      "cell_type": "markdown",
      "source": [
        "**Описание датафрейма:**\n",
        "\n",
        "\n",
        "Pclass — класс пассажира (1 — высший, 2 — средний, 3 — низший);\n",
        "\n",
        "Name — имя;\n",
        "\n",
        "Sex — пол;\n",
        "\n",
        "Age — возраст;\n",
        "\n",
        "SibSp — количество братьев, сестер, сводных братьев, сводных сестер, супругов на борту титаника;\n",
        "\n",
        "Parch — количество родителей, детей (в том числе приемных) на борту титаника;\n",
        "\n",
        "Ticket — номер билета;\n",
        "\n",
        "Fare — плата за проезд;\n",
        "\n",
        "Cabin — каюта;\n",
        "\n",
        "Embarked — порт посадки (C — Шербур; Q — Квинстаун; S — Саутгемптон).\n",
        "\n",
        "В поле Age приводится количество полных лет. Для детей меньше 1 года — дробное. Если возраст не известен точно, то указано примерное значение в формате xx.5."
      ],
      "metadata": {
        "id": "NKvYRLzOp_1Y"
      }
    },
    {
      "cell_type": "code",
      "source": [
        "df_x_train.info()"
      ],
      "metadata": {
        "colab": {
          "base_uri": "https://localhost:8080/"
        },
        "id": "voh7D4xDp5UG",
        "outputId": "d8d55a06-c2dc-4e91-f9df-8de3ce8e1b5a"
      },
      "execution_count": 9,
      "outputs": [
        {
          "output_type": "stream",
          "name": "stdout",
          "text": [
            "<class 'pandas.core.frame.DataFrame'>\n",
            "RangeIndex: 1047 entries, 0 to 1046\n",
            "Data columns (total 13 columns):\n",
            " #   Column     Non-Null Count  Dtype  \n",
            "---  ------     --------------  -----  \n",
            " 0   age        1047 non-null   float32\n",
            " 1   boat       1047 non-null   object \n",
            " 2   body       1047 non-null   int32  \n",
            " 3   cabin      1047 non-null   object \n",
            " 4   embarked   1047 non-null   int64  \n",
            " 5   fare       1047 non-null   float32\n",
            " 6   home.dest  1047 non-null   object \n",
            " 7   name       1047 non-null   object \n",
            " 8   parch      1047 non-null   int32  \n",
            " 9   pclass     1047 non-null   int64  \n",
            " 10  sex        1047 non-null   int64  \n",
            " 11  sibsp      1047 non-null   int32  \n",
            " 12  ticket     1047 non-null   object \n",
            "dtypes: float32(2), int32(3), int64(3), object(5)\n",
            "memory usage: 86.0+ KB\n"
          ]
        }
      ]
    },
    {
      "cell_type": "code",
      "source": [
        "# Получим единые датафреймы признаков и меток класса\n",
        "x_frames = [df_x_train, df_x_val, df_x_test]\n",
        "df_x = pd.concat(x_frames)\n",
        "y_frames = [df_y_train, df_y_val, df_y_test]\n",
        "df_y = pd.concat(y_frames)\n",
        "df = pd.concat([df_x, df_y], axis = 1)"
      ],
      "metadata": {
        "id": "LalQIlV9srAg"
      },
      "execution_count": 10,
      "outputs": []
    },
    {
      "cell_type": "code",
      "source": [
        "# Преобразуем к привычному виду строки\n",
        "df[['boat', 'cabin', 'home.dest', 'name', 'ticket']] = \\\n",
        "df[['boat', 'cabin', 'home.dest', 'name', 'ticket']].apply(lambda x: x.str.decode('utf-8'))"
      ],
      "metadata": {
        "id": "pNQUkcjjJS0w"
      },
      "execution_count": 11,
      "outputs": []
    },
    {
      "cell_type": "code",
      "source": [
        "df.info()"
      ],
      "metadata": {
        "colab": {
          "base_uri": "https://localhost:8080/"
        },
        "id": "ukjcd_ousq69",
        "outputId": "8b166cf1-9aef-4f2d-b52b-c701f199b18b"
      },
      "execution_count": 12,
      "outputs": [
        {
          "output_type": "stream",
          "name": "stdout",
          "text": [
            "<class 'pandas.core.frame.DataFrame'>\n",
            "Int64Index: 1309 entries, 0 to 130\n",
            "Data columns (total 14 columns):\n",
            " #   Column     Non-Null Count  Dtype  \n",
            "---  ------     --------------  -----  \n",
            " 0   age        1309 non-null   float32\n",
            " 1   boat       1309 non-null   object \n",
            " 2   body       1309 non-null   int32  \n",
            " 3   cabin      1309 non-null   object \n",
            " 4   embarked   1309 non-null   int64  \n",
            " 5   fare       1309 non-null   float32\n",
            " 6   home.dest  1309 non-null   object \n",
            " 7   name       1309 non-null   object \n",
            " 8   parch      1309 non-null   int32  \n",
            " 9   pclass     1309 non-null   int64  \n",
            " 10  sex        1309 non-null   int64  \n",
            " 11  sibsp      1309 non-null   int32  \n",
            " 12  ticket     1309 non-null   object \n",
            " 13  0          1309 non-null   int64  \n",
            "dtypes: float32(2), int32(3), int64(4), object(5)\n",
            "memory usage: 127.8+ KB\n"
          ]
        }
      ]
    },
    {
      "cell_type": "markdown",
      "source": [
        "Видим пропуски и некорректные данные в 5 столбцах. Идем смотреть что там"
      ],
      "metadata": {
        "id": "0UwT9R87tcpc"
      }
    },
    {
      "cell_type": "code",
      "source": [
        "print(df.boat.isna().any())\n",
        "print(df.boat.isnull().any())"
      ],
      "metadata": {
        "colab": {
          "base_uri": "https://localhost:8080/"
        },
        "id": "FkV02z6EuZ_E",
        "outputId": "18b1b9d2-1654-4997-e1a0-1c2b6d5e1cd0"
      },
      "execution_count": 13,
      "outputs": [
        {
          "output_type": "stream",
          "name": "stdout",
          "text": [
            "False\n",
            "False\n"
          ]
        }
      ]
    },
    {
      "cell_type": "code",
      "source": [
        "df"
      ],
      "metadata": {
        "colab": {
          "base_uri": "https://localhost:8080/",
          "height": 537
        },
        "id": "2OWOur1jvDdz",
        "outputId": "9bce2792-db8d-41c7-e6de-526eaaac5b9f"
      },
      "execution_count": 14,
      "outputs": [
        {
          "output_type": "execute_result",
          "data": {
            "text/plain": [
              "      age     boat  body    cabin  embarked     fare  \\\n",
              "0    30.0  Unknown    -1  Unknown         2  13.0000   \n",
              "1    37.0  Unknown    98  Unknown         2   7.9250   \n",
              "2    28.0        9    -1  Unknown         2  13.0000   \n",
              "3    18.0  Unknown    -1  Unknown         2  73.5000   \n",
              "4    -1.0  Unknown    -1  Unknown         0   7.8958   \n",
              "..    ...      ...   ...      ...       ...      ...   \n",
              "126  32.0  Unknown    -1  Unknown         1   7.7500   \n",
              "127  19.0  Unknown    -1  Unknown         2   7.7750   \n",
              "128  -1.0  Unknown    -1  Unknown         1   8.1375   \n",
              "129  31.0      C D    -1  Unknown         2  20.5250   \n",
              "130  36.0  Unknown    -1  Unknown         2  27.7500   \n",
              "\n",
              "                               home.dest  \\\n",
              "0                             Sarnia, ON   \n",
              "1    Ruotsinphytaa, Finland New York, NY   \n",
              "2                                  Spain   \n",
              "3                     Lyndhurst, England   \n",
              "4                                Unknown   \n",
              "..                                   ...   \n",
              "126                 Ireland New York, NY   \n",
              "127           Myren, Sweden New York, NY   \n",
              "128                              Unknown   \n",
              "129    Strood, Kent, England Detroit, MI   \n",
              "130                  Bournmouth, England   \n",
              "\n",
              "                                               name  parch  pclass  sex  \\\n",
              "0                         McCrie, Mr. James Matthew      0       1    0   \n",
              "1                    Gustafsson, Mr. Anders Vilhelm      0       2    0   \n",
              "2                         Reynaldo, Ms. Encarnacion      0       1    1   \n",
              "3                         Davies, Mr. Charles Henry      0       1    0   \n",
              "4                            Gheorgheff, Mr. Stanio      0       2    0   \n",
              "..                                              ...    ...     ...  ...   \n",
              "126                             Dooley, Mr. Patrick      0       2    0   \n",
              "127                     Gustafsson, Mr. Karl Gideon      0       2    0   \n",
              "128                             Peters, Miss. Katie      0       2    1   \n",
              "129  Goldsmith, Mrs. Frank John (Emily Alice Brown)      1       2    1   \n",
              "130                           West, Mr. Edwy Arthur      2       1    0   \n",
              "\n",
              "     sibsp        ticket  0  \n",
              "0        0        233478  0  \n",
              "1        2       3101276  0  \n",
              "2        0        230434  1  \n",
              "3        0  S.O.C. 14879  0  \n",
              "4        0        349254  0  \n",
              "..     ...           ... ..  \n",
              "126      0        370376  0  \n",
              "127      0        347069  0  \n",
              "128      0        330935  0  \n",
              "129      1        363291  1  \n",
              "130      1    C.A. 34651  0  \n",
              "\n",
              "[1309 rows x 14 columns]"
            ],
            "text/html": [
              "\n",
              "  <div id=\"df-dfd000bc-5dbd-462f-967c-0bbf54009205\">\n",
              "    <div class=\"colab-df-container\">\n",
              "      <div>\n",
              "<style scoped>\n",
              "    .dataframe tbody tr th:only-of-type {\n",
              "        vertical-align: middle;\n",
              "    }\n",
              "\n",
              "    .dataframe tbody tr th {\n",
              "        vertical-align: top;\n",
              "    }\n",
              "\n",
              "    .dataframe thead th {\n",
              "        text-align: right;\n",
              "    }\n",
              "</style>\n",
              "<table border=\"1\" class=\"dataframe\">\n",
              "  <thead>\n",
              "    <tr style=\"text-align: right;\">\n",
              "      <th></th>\n",
              "      <th>age</th>\n",
              "      <th>boat</th>\n",
              "      <th>body</th>\n",
              "      <th>cabin</th>\n",
              "      <th>embarked</th>\n",
              "      <th>fare</th>\n",
              "      <th>home.dest</th>\n",
              "      <th>name</th>\n",
              "      <th>parch</th>\n",
              "      <th>pclass</th>\n",
              "      <th>sex</th>\n",
              "      <th>sibsp</th>\n",
              "      <th>ticket</th>\n",
              "      <th>0</th>\n",
              "    </tr>\n",
              "  </thead>\n",
              "  <tbody>\n",
              "    <tr>\n",
              "      <th>0</th>\n",
              "      <td>30.0</td>\n",
              "      <td>Unknown</td>\n",
              "      <td>-1</td>\n",
              "      <td>Unknown</td>\n",
              "      <td>2</td>\n",
              "      <td>13.0000</td>\n",
              "      <td>Sarnia, ON</td>\n",
              "      <td>McCrie, Mr. James Matthew</td>\n",
              "      <td>0</td>\n",
              "      <td>1</td>\n",
              "      <td>0</td>\n",
              "      <td>0</td>\n",
              "      <td>233478</td>\n",
              "      <td>0</td>\n",
              "    </tr>\n",
              "    <tr>\n",
              "      <th>1</th>\n",
              "      <td>37.0</td>\n",
              "      <td>Unknown</td>\n",
              "      <td>98</td>\n",
              "      <td>Unknown</td>\n",
              "      <td>2</td>\n",
              "      <td>7.9250</td>\n",
              "      <td>Ruotsinphytaa, Finland New York, NY</td>\n",
              "      <td>Gustafsson, Mr. Anders Vilhelm</td>\n",
              "      <td>0</td>\n",
              "      <td>2</td>\n",
              "      <td>0</td>\n",
              "      <td>2</td>\n",
              "      <td>3101276</td>\n",
              "      <td>0</td>\n",
              "    </tr>\n",
              "    <tr>\n",
              "      <th>2</th>\n",
              "      <td>28.0</td>\n",
              "      <td>9</td>\n",
              "      <td>-1</td>\n",
              "      <td>Unknown</td>\n",
              "      <td>2</td>\n",
              "      <td>13.0000</td>\n",
              "      <td>Spain</td>\n",
              "      <td>Reynaldo, Ms. Encarnacion</td>\n",
              "      <td>0</td>\n",
              "      <td>1</td>\n",
              "      <td>1</td>\n",
              "      <td>0</td>\n",
              "      <td>230434</td>\n",
              "      <td>1</td>\n",
              "    </tr>\n",
              "    <tr>\n",
              "      <th>3</th>\n",
              "      <td>18.0</td>\n",
              "      <td>Unknown</td>\n",
              "      <td>-1</td>\n",
              "      <td>Unknown</td>\n",
              "      <td>2</td>\n",
              "      <td>73.5000</td>\n",
              "      <td>Lyndhurst, England</td>\n",
              "      <td>Davies, Mr. Charles Henry</td>\n",
              "      <td>0</td>\n",
              "      <td>1</td>\n",
              "      <td>0</td>\n",
              "      <td>0</td>\n",
              "      <td>S.O.C. 14879</td>\n",
              "      <td>0</td>\n",
              "    </tr>\n",
              "    <tr>\n",
              "      <th>4</th>\n",
              "      <td>-1.0</td>\n",
              "      <td>Unknown</td>\n",
              "      <td>-1</td>\n",
              "      <td>Unknown</td>\n",
              "      <td>0</td>\n",
              "      <td>7.8958</td>\n",
              "      <td>Unknown</td>\n",
              "      <td>Gheorgheff, Mr. Stanio</td>\n",
              "      <td>0</td>\n",
              "      <td>2</td>\n",
              "      <td>0</td>\n",
              "      <td>0</td>\n",
              "      <td>349254</td>\n",
              "      <td>0</td>\n",
              "    </tr>\n",
              "    <tr>\n",
              "      <th>...</th>\n",
              "      <td>...</td>\n",
              "      <td>...</td>\n",
              "      <td>...</td>\n",
              "      <td>...</td>\n",
              "      <td>...</td>\n",
              "      <td>...</td>\n",
              "      <td>...</td>\n",
              "      <td>...</td>\n",
              "      <td>...</td>\n",
              "      <td>...</td>\n",
              "      <td>...</td>\n",
              "      <td>...</td>\n",
              "      <td>...</td>\n",
              "      <td>...</td>\n",
              "    </tr>\n",
              "    <tr>\n",
              "      <th>126</th>\n",
              "      <td>32.0</td>\n",
              "      <td>Unknown</td>\n",
              "      <td>-1</td>\n",
              "      <td>Unknown</td>\n",
              "      <td>1</td>\n",
              "      <td>7.7500</td>\n",
              "      <td>Ireland New York, NY</td>\n",
              "      <td>Dooley, Mr. Patrick</td>\n",
              "      <td>0</td>\n",
              "      <td>2</td>\n",
              "      <td>0</td>\n",
              "      <td>0</td>\n",
              "      <td>370376</td>\n",
              "      <td>0</td>\n",
              "    </tr>\n",
              "    <tr>\n",
              "      <th>127</th>\n",
              "      <td>19.0</td>\n",
              "      <td>Unknown</td>\n",
              "      <td>-1</td>\n",
              "      <td>Unknown</td>\n",
              "      <td>2</td>\n",
              "      <td>7.7750</td>\n",
              "      <td>Myren, Sweden New York, NY</td>\n",
              "      <td>Gustafsson, Mr. Karl Gideon</td>\n",
              "      <td>0</td>\n",
              "      <td>2</td>\n",
              "      <td>0</td>\n",
              "      <td>0</td>\n",
              "      <td>347069</td>\n",
              "      <td>0</td>\n",
              "    </tr>\n",
              "    <tr>\n",
              "      <th>128</th>\n",
              "      <td>-1.0</td>\n",
              "      <td>Unknown</td>\n",
              "      <td>-1</td>\n",
              "      <td>Unknown</td>\n",
              "      <td>1</td>\n",
              "      <td>8.1375</td>\n",
              "      <td>Unknown</td>\n",
              "      <td>Peters, Miss. Katie</td>\n",
              "      <td>0</td>\n",
              "      <td>2</td>\n",
              "      <td>1</td>\n",
              "      <td>0</td>\n",
              "      <td>330935</td>\n",
              "      <td>0</td>\n",
              "    </tr>\n",
              "    <tr>\n",
              "      <th>129</th>\n",
              "      <td>31.0</td>\n",
              "      <td>C D</td>\n",
              "      <td>-1</td>\n",
              "      <td>Unknown</td>\n",
              "      <td>2</td>\n",
              "      <td>20.5250</td>\n",
              "      <td>Strood, Kent, England Detroit, MI</td>\n",
              "      <td>Goldsmith, Mrs. Frank John (Emily Alice Brown)</td>\n",
              "      <td>1</td>\n",
              "      <td>2</td>\n",
              "      <td>1</td>\n",
              "      <td>1</td>\n",
              "      <td>363291</td>\n",
              "      <td>1</td>\n",
              "    </tr>\n",
              "    <tr>\n",
              "      <th>130</th>\n",
              "      <td>36.0</td>\n",
              "      <td>Unknown</td>\n",
              "      <td>-1</td>\n",
              "      <td>Unknown</td>\n",
              "      <td>2</td>\n",
              "      <td>27.7500</td>\n",
              "      <td>Bournmouth, England</td>\n",
              "      <td>West, Mr. Edwy Arthur</td>\n",
              "      <td>2</td>\n",
              "      <td>1</td>\n",
              "      <td>0</td>\n",
              "      <td>1</td>\n",
              "      <td>C.A. 34651</td>\n",
              "      <td>0</td>\n",
              "    </tr>\n",
              "  </tbody>\n",
              "</table>\n",
              "<p>1309 rows × 14 columns</p>\n",
              "</div>\n",
              "      <button class=\"colab-df-convert\" onclick=\"convertToInteractive('df-dfd000bc-5dbd-462f-967c-0bbf54009205')\"\n",
              "              title=\"Convert this dataframe to an interactive table.\"\n",
              "              style=\"display:none;\">\n",
              "        \n",
              "  <svg xmlns=\"http://www.w3.org/2000/svg\" height=\"24px\"viewBox=\"0 0 24 24\"\n",
              "       width=\"24px\">\n",
              "    <path d=\"M0 0h24v24H0V0z\" fill=\"none\"/>\n",
              "    <path d=\"M18.56 5.44l.94 2.06.94-2.06 2.06-.94-2.06-.94-.94-2.06-.94 2.06-2.06.94zm-11 1L8.5 8.5l.94-2.06 2.06-.94-2.06-.94L8.5 2.5l-.94 2.06-2.06.94zm10 10l.94 2.06.94-2.06 2.06-.94-2.06-.94-.94-2.06-.94 2.06-2.06.94z\"/><path d=\"M17.41 7.96l-1.37-1.37c-.4-.4-.92-.59-1.43-.59-.52 0-1.04.2-1.43.59L10.3 9.45l-7.72 7.72c-.78.78-.78 2.05 0 2.83L4 21.41c.39.39.9.59 1.41.59.51 0 1.02-.2 1.41-.59l7.78-7.78 2.81-2.81c.8-.78.8-2.07 0-2.86zM5.41 20L4 18.59l7.72-7.72 1.47 1.35L5.41 20z\"/>\n",
              "  </svg>\n",
              "      </button>\n",
              "      \n",
              "  <style>\n",
              "    .colab-df-container {\n",
              "      display:flex;\n",
              "      flex-wrap:wrap;\n",
              "      gap: 12px;\n",
              "    }\n",
              "\n",
              "    .colab-df-convert {\n",
              "      background-color: #E8F0FE;\n",
              "      border: none;\n",
              "      border-radius: 50%;\n",
              "      cursor: pointer;\n",
              "      display: none;\n",
              "      fill: #1967D2;\n",
              "      height: 32px;\n",
              "      padding: 0 0 0 0;\n",
              "      width: 32px;\n",
              "    }\n",
              "\n",
              "    .colab-df-convert:hover {\n",
              "      background-color: #E2EBFA;\n",
              "      box-shadow: 0px 1px 2px rgba(60, 64, 67, 0.3), 0px 1px 3px 1px rgba(60, 64, 67, 0.15);\n",
              "      fill: #174EA6;\n",
              "    }\n",
              "\n",
              "    [theme=dark] .colab-df-convert {\n",
              "      background-color: #3B4455;\n",
              "      fill: #D2E3FC;\n",
              "    }\n",
              "\n",
              "    [theme=dark] .colab-df-convert:hover {\n",
              "      background-color: #434B5C;\n",
              "      box-shadow: 0px 1px 3px 1px rgba(0, 0, 0, 0.15);\n",
              "      filter: drop-shadow(0px 1px 2px rgba(0, 0, 0, 0.3));\n",
              "      fill: #FFFFFF;\n",
              "    }\n",
              "  </style>\n",
              "\n",
              "      <script>\n",
              "        const buttonEl =\n",
              "          document.querySelector('#df-dfd000bc-5dbd-462f-967c-0bbf54009205 button.colab-df-convert');\n",
              "        buttonEl.style.display =\n",
              "          google.colab.kernel.accessAllowed ? 'block' : 'none';\n",
              "\n",
              "        async function convertToInteractive(key) {\n",
              "          const element = document.querySelector('#df-dfd000bc-5dbd-462f-967c-0bbf54009205');\n",
              "          const dataTable =\n",
              "            await google.colab.kernel.invokeFunction('convertToInteractive',\n",
              "                                                     [key], {});\n",
              "          if (!dataTable) return;\n",
              "\n",
              "          const docLinkHtml = 'Like what you see? Visit the ' +\n",
              "            '<a target=\"_blank\" href=https://colab.research.google.com/notebooks/data_table.ipynb>data table notebook</a>'\n",
              "            + ' to learn more about interactive tables.';\n",
              "          element.innerHTML = '';\n",
              "          dataTable['output_type'] = 'display_data';\n",
              "          await google.colab.output.renderOutput(dataTable, element);\n",
              "          const docLink = document.createElement('div');\n",
              "          docLink.innerHTML = docLinkHtml;\n",
              "          element.appendChild(docLink);\n",
              "        }\n",
              "      </script>\n",
              "    </div>\n",
              "  </div>\n",
              "  "
            ]
          },
          "metadata": {},
          "execution_count": 14
        }
      ]
    },
    {
      "cell_type": "code",
      "source": [
        "for name in ['boat', 'cabin', 'home.dest']:\n",
        "    print(f\"\\t {name} = {len(df[df[name] == 'Unknown'])}\")"
      ],
      "metadata": {
        "colab": {
          "base_uri": "https://localhost:8080/"
        },
        "id": "wEi3h_havLUS",
        "outputId": "b4b81be9-0492-4b56-8196-ee03f49b5cb0"
      },
      "execution_count": 15,
      "outputs": [
        {
          "output_type": "stream",
          "name": "stdout",
          "text": [
            "\t boat = 823\n",
            "\t cabin = 1014\n",
            "\t home.dest = 564\n"
          ]
        }
      ]
    },
    {
      "cell_type": "markdown",
      "source": [],
      "metadata": {
        "id": "Cs797BCR3of6"
      }
    },
    {
      "cell_type": "code",
      "source": [
        "df.boat.unique()"
      ],
      "metadata": {
        "colab": {
          "base_uri": "https://localhost:8080/"
        },
        "id": "j_WCgupX3cJw",
        "outputId": "7eb5ee71-7f09-48e0-ac58-6a369cdeb8e7"
      },
      "execution_count": 16,
      "outputs": [
        {
          "output_type": "execute_result",
          "data": {
            "text/plain": [
              "array(['Unknown', '9', '11', '3', '16', '6', '15', '4', '13', '10', '14',\n",
              "       '5', '12', '8', 'D', 'A', 'C', 'B', '5 7', 'C D', '7', '2', '1',\n",
              "       '13 15', '15 16', '5 9', '13 15 B', '8 10'], dtype=object)"
            ]
          },
          "metadata": {},
          "execution_count": 16
        }
      ]
    },
    {
      "cell_type": "code",
      "source": [
        "df.loc[df['cabin'] == 'Unknown', 'cabin'] = -1"
      ],
      "metadata": {
        "id": "nRJ9Z44W4gWf"
      },
      "execution_count": 17,
      "outputs": []
    },
    {
      "cell_type": "code",
      "source": [
        "df.loc[df['boat'] == 'Unknown', 'boat'] = -1"
      ],
      "metadata": {
        "id": "MPI-GSWo4wrR"
      },
      "execution_count": 18,
      "outputs": []
    },
    {
      "cell_type": "code",
      "source": [
        "df"
      ],
      "metadata": {
        "colab": {
          "base_uri": "https://localhost:8080/",
          "height": 519
        },
        "id": "j16QC0-b45Qq",
        "outputId": "ae30c2fa-7661-4573-f666-89dc833ca20e"
      },
      "execution_count": 19,
      "outputs": [
        {
          "output_type": "execute_result",
          "data": {
            "text/plain": [
              "      age boat  body cabin  embarked     fare  \\\n",
              "0    30.0   -1    -1    -1         2  13.0000   \n",
              "1    37.0   -1    98    -1         2   7.9250   \n",
              "2    28.0    9    -1    -1         2  13.0000   \n",
              "3    18.0   -1    -1    -1         2  73.5000   \n",
              "4    -1.0   -1    -1    -1         0   7.8958   \n",
              "..    ...  ...   ...   ...       ...      ...   \n",
              "126  32.0   -1    -1    -1         1   7.7500   \n",
              "127  19.0   -1    -1    -1         2   7.7750   \n",
              "128  -1.0   -1    -1    -1         1   8.1375   \n",
              "129  31.0  C D    -1    -1         2  20.5250   \n",
              "130  36.0   -1    -1    -1         2  27.7500   \n",
              "\n",
              "                               home.dest  \\\n",
              "0                             Sarnia, ON   \n",
              "1    Ruotsinphytaa, Finland New York, NY   \n",
              "2                                  Spain   \n",
              "3                     Lyndhurst, England   \n",
              "4                                Unknown   \n",
              "..                                   ...   \n",
              "126                 Ireland New York, NY   \n",
              "127           Myren, Sweden New York, NY   \n",
              "128                              Unknown   \n",
              "129    Strood, Kent, England Detroit, MI   \n",
              "130                  Bournmouth, England   \n",
              "\n",
              "                                               name  parch  pclass  sex  \\\n",
              "0                         McCrie, Mr. James Matthew      0       1    0   \n",
              "1                    Gustafsson, Mr. Anders Vilhelm      0       2    0   \n",
              "2                         Reynaldo, Ms. Encarnacion      0       1    1   \n",
              "3                         Davies, Mr. Charles Henry      0       1    0   \n",
              "4                            Gheorgheff, Mr. Stanio      0       2    0   \n",
              "..                                              ...    ...     ...  ...   \n",
              "126                             Dooley, Mr. Patrick      0       2    0   \n",
              "127                     Gustafsson, Mr. Karl Gideon      0       2    0   \n",
              "128                             Peters, Miss. Katie      0       2    1   \n",
              "129  Goldsmith, Mrs. Frank John (Emily Alice Brown)      1       2    1   \n",
              "130                           West, Mr. Edwy Arthur      2       1    0   \n",
              "\n",
              "     sibsp        ticket  0  \n",
              "0        0        233478  0  \n",
              "1        2       3101276  0  \n",
              "2        0        230434  1  \n",
              "3        0  S.O.C. 14879  0  \n",
              "4        0        349254  0  \n",
              "..     ...           ... ..  \n",
              "126      0        370376  0  \n",
              "127      0        347069  0  \n",
              "128      0        330935  0  \n",
              "129      1        363291  1  \n",
              "130      1    C.A. 34651  0  \n",
              "\n",
              "[1309 rows x 14 columns]"
            ],
            "text/html": [
              "\n",
              "  <div id=\"df-a3e57cd8-de31-4536-92fb-50d217e1ef70\">\n",
              "    <div class=\"colab-df-container\">\n",
              "      <div>\n",
              "<style scoped>\n",
              "    .dataframe tbody tr th:only-of-type {\n",
              "        vertical-align: middle;\n",
              "    }\n",
              "\n",
              "    .dataframe tbody tr th {\n",
              "        vertical-align: top;\n",
              "    }\n",
              "\n",
              "    .dataframe thead th {\n",
              "        text-align: right;\n",
              "    }\n",
              "</style>\n",
              "<table border=\"1\" class=\"dataframe\">\n",
              "  <thead>\n",
              "    <tr style=\"text-align: right;\">\n",
              "      <th></th>\n",
              "      <th>age</th>\n",
              "      <th>boat</th>\n",
              "      <th>body</th>\n",
              "      <th>cabin</th>\n",
              "      <th>embarked</th>\n",
              "      <th>fare</th>\n",
              "      <th>home.dest</th>\n",
              "      <th>name</th>\n",
              "      <th>parch</th>\n",
              "      <th>pclass</th>\n",
              "      <th>sex</th>\n",
              "      <th>sibsp</th>\n",
              "      <th>ticket</th>\n",
              "      <th>0</th>\n",
              "    </tr>\n",
              "  </thead>\n",
              "  <tbody>\n",
              "    <tr>\n",
              "      <th>0</th>\n",
              "      <td>30.0</td>\n",
              "      <td>-1</td>\n",
              "      <td>-1</td>\n",
              "      <td>-1</td>\n",
              "      <td>2</td>\n",
              "      <td>13.0000</td>\n",
              "      <td>Sarnia, ON</td>\n",
              "      <td>McCrie, Mr. James Matthew</td>\n",
              "      <td>0</td>\n",
              "      <td>1</td>\n",
              "      <td>0</td>\n",
              "      <td>0</td>\n",
              "      <td>233478</td>\n",
              "      <td>0</td>\n",
              "    </tr>\n",
              "    <tr>\n",
              "      <th>1</th>\n",
              "      <td>37.0</td>\n",
              "      <td>-1</td>\n",
              "      <td>98</td>\n",
              "      <td>-1</td>\n",
              "      <td>2</td>\n",
              "      <td>7.9250</td>\n",
              "      <td>Ruotsinphytaa, Finland New York, NY</td>\n",
              "      <td>Gustafsson, Mr. Anders Vilhelm</td>\n",
              "      <td>0</td>\n",
              "      <td>2</td>\n",
              "      <td>0</td>\n",
              "      <td>2</td>\n",
              "      <td>3101276</td>\n",
              "      <td>0</td>\n",
              "    </tr>\n",
              "    <tr>\n",
              "      <th>2</th>\n",
              "      <td>28.0</td>\n",
              "      <td>9</td>\n",
              "      <td>-1</td>\n",
              "      <td>-1</td>\n",
              "      <td>2</td>\n",
              "      <td>13.0000</td>\n",
              "      <td>Spain</td>\n",
              "      <td>Reynaldo, Ms. Encarnacion</td>\n",
              "      <td>0</td>\n",
              "      <td>1</td>\n",
              "      <td>1</td>\n",
              "      <td>0</td>\n",
              "      <td>230434</td>\n",
              "      <td>1</td>\n",
              "    </tr>\n",
              "    <tr>\n",
              "      <th>3</th>\n",
              "      <td>18.0</td>\n",
              "      <td>-1</td>\n",
              "      <td>-1</td>\n",
              "      <td>-1</td>\n",
              "      <td>2</td>\n",
              "      <td>73.5000</td>\n",
              "      <td>Lyndhurst, England</td>\n",
              "      <td>Davies, Mr. Charles Henry</td>\n",
              "      <td>0</td>\n",
              "      <td>1</td>\n",
              "      <td>0</td>\n",
              "      <td>0</td>\n",
              "      <td>S.O.C. 14879</td>\n",
              "      <td>0</td>\n",
              "    </tr>\n",
              "    <tr>\n",
              "      <th>4</th>\n",
              "      <td>-1.0</td>\n",
              "      <td>-1</td>\n",
              "      <td>-1</td>\n",
              "      <td>-1</td>\n",
              "      <td>0</td>\n",
              "      <td>7.8958</td>\n",
              "      <td>Unknown</td>\n",
              "      <td>Gheorgheff, Mr. Stanio</td>\n",
              "      <td>0</td>\n",
              "      <td>2</td>\n",
              "      <td>0</td>\n",
              "      <td>0</td>\n",
              "      <td>349254</td>\n",
              "      <td>0</td>\n",
              "    </tr>\n",
              "    <tr>\n",
              "      <th>...</th>\n",
              "      <td>...</td>\n",
              "      <td>...</td>\n",
              "      <td>...</td>\n",
              "      <td>...</td>\n",
              "      <td>...</td>\n",
              "      <td>...</td>\n",
              "      <td>...</td>\n",
              "      <td>...</td>\n",
              "      <td>...</td>\n",
              "      <td>...</td>\n",
              "      <td>...</td>\n",
              "      <td>...</td>\n",
              "      <td>...</td>\n",
              "      <td>...</td>\n",
              "    </tr>\n",
              "    <tr>\n",
              "      <th>126</th>\n",
              "      <td>32.0</td>\n",
              "      <td>-1</td>\n",
              "      <td>-1</td>\n",
              "      <td>-1</td>\n",
              "      <td>1</td>\n",
              "      <td>7.7500</td>\n",
              "      <td>Ireland New York, NY</td>\n",
              "      <td>Dooley, Mr. Patrick</td>\n",
              "      <td>0</td>\n",
              "      <td>2</td>\n",
              "      <td>0</td>\n",
              "      <td>0</td>\n",
              "      <td>370376</td>\n",
              "      <td>0</td>\n",
              "    </tr>\n",
              "    <tr>\n",
              "      <th>127</th>\n",
              "      <td>19.0</td>\n",
              "      <td>-1</td>\n",
              "      <td>-1</td>\n",
              "      <td>-1</td>\n",
              "      <td>2</td>\n",
              "      <td>7.7750</td>\n",
              "      <td>Myren, Sweden New York, NY</td>\n",
              "      <td>Gustafsson, Mr. Karl Gideon</td>\n",
              "      <td>0</td>\n",
              "      <td>2</td>\n",
              "      <td>0</td>\n",
              "      <td>0</td>\n",
              "      <td>347069</td>\n",
              "      <td>0</td>\n",
              "    </tr>\n",
              "    <tr>\n",
              "      <th>128</th>\n",
              "      <td>-1.0</td>\n",
              "      <td>-1</td>\n",
              "      <td>-1</td>\n",
              "      <td>-1</td>\n",
              "      <td>1</td>\n",
              "      <td>8.1375</td>\n",
              "      <td>Unknown</td>\n",
              "      <td>Peters, Miss. Katie</td>\n",
              "      <td>0</td>\n",
              "      <td>2</td>\n",
              "      <td>1</td>\n",
              "      <td>0</td>\n",
              "      <td>330935</td>\n",
              "      <td>0</td>\n",
              "    </tr>\n",
              "    <tr>\n",
              "      <th>129</th>\n",
              "      <td>31.0</td>\n",
              "      <td>C D</td>\n",
              "      <td>-1</td>\n",
              "      <td>-1</td>\n",
              "      <td>2</td>\n",
              "      <td>20.5250</td>\n",
              "      <td>Strood, Kent, England Detroit, MI</td>\n",
              "      <td>Goldsmith, Mrs. Frank John (Emily Alice Brown)</td>\n",
              "      <td>1</td>\n",
              "      <td>2</td>\n",
              "      <td>1</td>\n",
              "      <td>1</td>\n",
              "      <td>363291</td>\n",
              "      <td>1</td>\n",
              "    </tr>\n",
              "    <tr>\n",
              "      <th>130</th>\n",
              "      <td>36.0</td>\n",
              "      <td>-1</td>\n",
              "      <td>-1</td>\n",
              "      <td>-1</td>\n",
              "      <td>2</td>\n",
              "      <td>27.7500</td>\n",
              "      <td>Bournmouth, England</td>\n",
              "      <td>West, Mr. Edwy Arthur</td>\n",
              "      <td>2</td>\n",
              "      <td>1</td>\n",
              "      <td>0</td>\n",
              "      <td>1</td>\n",
              "      <td>C.A. 34651</td>\n",
              "      <td>0</td>\n",
              "    </tr>\n",
              "  </tbody>\n",
              "</table>\n",
              "<p>1309 rows × 14 columns</p>\n",
              "</div>\n",
              "      <button class=\"colab-df-convert\" onclick=\"convertToInteractive('df-a3e57cd8-de31-4536-92fb-50d217e1ef70')\"\n",
              "              title=\"Convert this dataframe to an interactive table.\"\n",
              "              style=\"display:none;\">\n",
              "        \n",
              "  <svg xmlns=\"http://www.w3.org/2000/svg\" height=\"24px\"viewBox=\"0 0 24 24\"\n",
              "       width=\"24px\">\n",
              "    <path d=\"M0 0h24v24H0V0z\" fill=\"none\"/>\n",
              "    <path d=\"M18.56 5.44l.94 2.06.94-2.06 2.06-.94-2.06-.94-.94-2.06-.94 2.06-2.06.94zm-11 1L8.5 8.5l.94-2.06 2.06-.94-2.06-.94L8.5 2.5l-.94 2.06-2.06.94zm10 10l.94 2.06.94-2.06 2.06-.94-2.06-.94-.94-2.06-.94 2.06-2.06.94z\"/><path d=\"M17.41 7.96l-1.37-1.37c-.4-.4-.92-.59-1.43-.59-.52 0-1.04.2-1.43.59L10.3 9.45l-7.72 7.72c-.78.78-.78 2.05 0 2.83L4 21.41c.39.39.9.59 1.41.59.51 0 1.02-.2 1.41-.59l7.78-7.78 2.81-2.81c.8-.78.8-2.07 0-2.86zM5.41 20L4 18.59l7.72-7.72 1.47 1.35L5.41 20z\"/>\n",
              "  </svg>\n",
              "      </button>\n",
              "      \n",
              "  <style>\n",
              "    .colab-df-container {\n",
              "      display:flex;\n",
              "      flex-wrap:wrap;\n",
              "      gap: 12px;\n",
              "    }\n",
              "\n",
              "    .colab-df-convert {\n",
              "      background-color: #E8F0FE;\n",
              "      border: none;\n",
              "      border-radius: 50%;\n",
              "      cursor: pointer;\n",
              "      display: none;\n",
              "      fill: #1967D2;\n",
              "      height: 32px;\n",
              "      padding: 0 0 0 0;\n",
              "      width: 32px;\n",
              "    }\n",
              "\n",
              "    .colab-df-convert:hover {\n",
              "      background-color: #E2EBFA;\n",
              "      box-shadow: 0px 1px 2px rgba(60, 64, 67, 0.3), 0px 1px 3px 1px rgba(60, 64, 67, 0.15);\n",
              "      fill: #174EA6;\n",
              "    }\n",
              "\n",
              "    [theme=dark] .colab-df-convert {\n",
              "      background-color: #3B4455;\n",
              "      fill: #D2E3FC;\n",
              "    }\n",
              "\n",
              "    [theme=dark] .colab-df-convert:hover {\n",
              "      background-color: #434B5C;\n",
              "      box-shadow: 0px 1px 3px 1px rgba(0, 0, 0, 0.15);\n",
              "      filter: drop-shadow(0px 1px 2px rgba(0, 0, 0, 0.3));\n",
              "      fill: #FFFFFF;\n",
              "    }\n",
              "  </style>\n",
              "\n",
              "      <script>\n",
              "        const buttonEl =\n",
              "          document.querySelector('#df-a3e57cd8-de31-4536-92fb-50d217e1ef70 button.colab-df-convert');\n",
              "        buttonEl.style.display =\n",
              "          google.colab.kernel.accessAllowed ? 'block' : 'none';\n",
              "\n",
              "        async function convertToInteractive(key) {\n",
              "          const element = document.querySelector('#df-a3e57cd8-de31-4536-92fb-50d217e1ef70');\n",
              "          const dataTable =\n",
              "            await google.colab.kernel.invokeFunction('convertToInteractive',\n",
              "                                                     [key], {});\n",
              "          if (!dataTable) return;\n",
              "\n",
              "          const docLinkHtml = 'Like what you see? Visit the ' +\n",
              "            '<a target=\"_blank\" href=https://colab.research.google.com/notebooks/data_table.ipynb>data table notebook</a>'\n",
              "            + ' to learn more about interactive tables.';\n",
              "          element.innerHTML = '';\n",
              "          dataTable['output_type'] = 'display_data';\n",
              "          await google.colab.output.renderOutput(dataTable, element);\n",
              "          const docLink = document.createElement('div');\n",
              "          docLink.innerHTML = docLinkHtml;\n",
              "          element.appendChild(docLink);\n",
              "        }\n",
              "      </script>\n",
              "    </div>\n",
              "  </div>\n",
              "  "
            ]
          },
          "metadata": {},
          "execution_count": 19
        }
      ]
    },
    {
      "cell_type": "code",
      "source": [
        "# Сформируем признак \"количество родственников на борту\"\n",
        "df['family_size'] = df['parch'] + df['sibsp']"
      ],
      "metadata": {
        "id": "_zcZ_SQc5fVJ"
      },
      "execution_count": 20,
      "outputs": []
    },
    {
      "cell_type": "code",
      "source": [
        "df['status'] = 0\n",
        "for i in df:\n",
        "    df['status']=df['name'].str.extract('([A-Za-z]+)\\.') # выделим обращения\n",
        "\n",
        "# Заменим редкие обращения по смыслу\n",
        "df['status'].replace(\n",
        "    ['Mlle','Mme','Ms','Dr','Major','Lady','Countess','Jonkheer','Col','Rev','Capt','Sir','Don'],\\\n",
        "    ['Miss','Miss','Miss','Mr','Mr','Mrs','Mrs','Other','Other','Other','Mr','Mr','Mr'],\\\n",
        "    inplace=True)"
      ],
      "metadata": {
        "id": "-BTqXxJ052IG"
      },
      "execution_count": 21,
      "outputs": []
    },
    {
      "cell_type": "code",
      "source": [
        "df.drop(['home.dest', 'name','ticket'], axis=1, inplace=True)"
      ],
      "metadata": {
        "id": "p_SmLJ7v6O4I"
      },
      "execution_count": 22,
      "outputs": []
    },
    {
      "cell_type": "code",
      "source": [
        "df"
      ],
      "metadata": {
        "colab": {
          "base_uri": "https://localhost:8080/",
          "height": 423
        },
        "id": "CUwRnSgE6PmU",
        "outputId": "26cd0387-43a4-49e8-8711-f8eecd95242a"
      },
      "execution_count": 23,
      "outputs": [
        {
          "output_type": "execute_result",
          "data": {
            "text/plain": [
              "      age boat  body cabin  embarked     fare  parch  pclass  sex  sibsp  0  \\\n",
              "0    30.0   -1    -1    -1         2  13.0000      0       1    0      0  0   \n",
              "1    37.0   -1    98    -1         2   7.9250      0       2    0      2  0   \n",
              "2    28.0    9    -1    -1         2  13.0000      0       1    1      0  1   \n",
              "3    18.0   -1    -1    -1         2  73.5000      0       1    0      0  0   \n",
              "4    -1.0   -1    -1    -1         0   7.8958      0       2    0      0  0   \n",
              "..    ...  ...   ...   ...       ...      ...    ...     ...  ...    ... ..   \n",
              "126  32.0   -1    -1    -1         1   7.7500      0       2    0      0  0   \n",
              "127  19.0   -1    -1    -1         2   7.7750      0       2    0      0  0   \n",
              "128  -1.0   -1    -1    -1         1   8.1375      0       2    1      0  0   \n",
              "129  31.0  C D    -1    -1         2  20.5250      1       2    1      1  1   \n",
              "130  36.0   -1    -1    -1         2  27.7500      2       1    0      1  0   \n",
              "\n",
              "     family_size status  \n",
              "0              0     Mr  \n",
              "1              2     Mr  \n",
              "2              0   Miss  \n",
              "3              0     Mr  \n",
              "4              0     Mr  \n",
              "..           ...    ...  \n",
              "126            0     Mr  \n",
              "127            0     Mr  \n",
              "128            0   Miss  \n",
              "129            2    Mrs  \n",
              "130            3     Mr  \n",
              "\n",
              "[1309 rows x 13 columns]"
            ],
            "text/html": [
              "\n",
              "  <div id=\"df-ea6b10ab-632d-4bd9-80e0-bf78d1418364\">\n",
              "    <div class=\"colab-df-container\">\n",
              "      <div>\n",
              "<style scoped>\n",
              "    .dataframe tbody tr th:only-of-type {\n",
              "        vertical-align: middle;\n",
              "    }\n",
              "\n",
              "    .dataframe tbody tr th {\n",
              "        vertical-align: top;\n",
              "    }\n",
              "\n",
              "    .dataframe thead th {\n",
              "        text-align: right;\n",
              "    }\n",
              "</style>\n",
              "<table border=\"1\" class=\"dataframe\">\n",
              "  <thead>\n",
              "    <tr style=\"text-align: right;\">\n",
              "      <th></th>\n",
              "      <th>age</th>\n",
              "      <th>boat</th>\n",
              "      <th>body</th>\n",
              "      <th>cabin</th>\n",
              "      <th>embarked</th>\n",
              "      <th>fare</th>\n",
              "      <th>parch</th>\n",
              "      <th>pclass</th>\n",
              "      <th>sex</th>\n",
              "      <th>sibsp</th>\n",
              "      <th>0</th>\n",
              "      <th>family_size</th>\n",
              "      <th>status</th>\n",
              "    </tr>\n",
              "  </thead>\n",
              "  <tbody>\n",
              "    <tr>\n",
              "      <th>0</th>\n",
              "      <td>30.0</td>\n",
              "      <td>-1</td>\n",
              "      <td>-1</td>\n",
              "      <td>-1</td>\n",
              "      <td>2</td>\n",
              "      <td>13.0000</td>\n",
              "      <td>0</td>\n",
              "      <td>1</td>\n",
              "      <td>0</td>\n",
              "      <td>0</td>\n",
              "      <td>0</td>\n",
              "      <td>0</td>\n",
              "      <td>Mr</td>\n",
              "    </tr>\n",
              "    <tr>\n",
              "      <th>1</th>\n",
              "      <td>37.0</td>\n",
              "      <td>-1</td>\n",
              "      <td>98</td>\n",
              "      <td>-1</td>\n",
              "      <td>2</td>\n",
              "      <td>7.9250</td>\n",
              "      <td>0</td>\n",
              "      <td>2</td>\n",
              "      <td>0</td>\n",
              "      <td>2</td>\n",
              "      <td>0</td>\n",
              "      <td>2</td>\n",
              "      <td>Mr</td>\n",
              "    </tr>\n",
              "    <tr>\n",
              "      <th>2</th>\n",
              "      <td>28.0</td>\n",
              "      <td>9</td>\n",
              "      <td>-1</td>\n",
              "      <td>-1</td>\n",
              "      <td>2</td>\n",
              "      <td>13.0000</td>\n",
              "      <td>0</td>\n",
              "      <td>1</td>\n",
              "      <td>1</td>\n",
              "      <td>0</td>\n",
              "      <td>1</td>\n",
              "      <td>0</td>\n",
              "      <td>Miss</td>\n",
              "    </tr>\n",
              "    <tr>\n",
              "      <th>3</th>\n",
              "      <td>18.0</td>\n",
              "      <td>-1</td>\n",
              "      <td>-1</td>\n",
              "      <td>-1</td>\n",
              "      <td>2</td>\n",
              "      <td>73.5000</td>\n",
              "      <td>0</td>\n",
              "      <td>1</td>\n",
              "      <td>0</td>\n",
              "      <td>0</td>\n",
              "      <td>0</td>\n",
              "      <td>0</td>\n",
              "      <td>Mr</td>\n",
              "    </tr>\n",
              "    <tr>\n",
              "      <th>4</th>\n",
              "      <td>-1.0</td>\n",
              "      <td>-1</td>\n",
              "      <td>-1</td>\n",
              "      <td>-1</td>\n",
              "      <td>0</td>\n",
              "      <td>7.8958</td>\n",
              "      <td>0</td>\n",
              "      <td>2</td>\n",
              "      <td>0</td>\n",
              "      <td>0</td>\n",
              "      <td>0</td>\n",
              "      <td>0</td>\n",
              "      <td>Mr</td>\n",
              "    </tr>\n",
              "    <tr>\n",
              "      <th>...</th>\n",
              "      <td>...</td>\n",
              "      <td>...</td>\n",
              "      <td>...</td>\n",
              "      <td>...</td>\n",
              "      <td>...</td>\n",
              "      <td>...</td>\n",
              "      <td>...</td>\n",
              "      <td>...</td>\n",
              "      <td>...</td>\n",
              "      <td>...</td>\n",
              "      <td>...</td>\n",
              "      <td>...</td>\n",
              "      <td>...</td>\n",
              "    </tr>\n",
              "    <tr>\n",
              "      <th>126</th>\n",
              "      <td>32.0</td>\n",
              "      <td>-1</td>\n",
              "      <td>-1</td>\n",
              "      <td>-1</td>\n",
              "      <td>1</td>\n",
              "      <td>7.7500</td>\n",
              "      <td>0</td>\n",
              "      <td>2</td>\n",
              "      <td>0</td>\n",
              "      <td>0</td>\n",
              "      <td>0</td>\n",
              "      <td>0</td>\n",
              "      <td>Mr</td>\n",
              "    </tr>\n",
              "    <tr>\n",
              "      <th>127</th>\n",
              "      <td>19.0</td>\n",
              "      <td>-1</td>\n",
              "      <td>-1</td>\n",
              "      <td>-1</td>\n",
              "      <td>2</td>\n",
              "      <td>7.7750</td>\n",
              "      <td>0</td>\n",
              "      <td>2</td>\n",
              "      <td>0</td>\n",
              "      <td>0</td>\n",
              "      <td>0</td>\n",
              "      <td>0</td>\n",
              "      <td>Mr</td>\n",
              "    </tr>\n",
              "    <tr>\n",
              "      <th>128</th>\n",
              "      <td>-1.0</td>\n",
              "      <td>-1</td>\n",
              "      <td>-1</td>\n",
              "      <td>-1</td>\n",
              "      <td>1</td>\n",
              "      <td>8.1375</td>\n",
              "      <td>0</td>\n",
              "      <td>2</td>\n",
              "      <td>1</td>\n",
              "      <td>0</td>\n",
              "      <td>0</td>\n",
              "      <td>0</td>\n",
              "      <td>Miss</td>\n",
              "    </tr>\n",
              "    <tr>\n",
              "      <th>129</th>\n",
              "      <td>31.0</td>\n",
              "      <td>C D</td>\n",
              "      <td>-1</td>\n",
              "      <td>-1</td>\n",
              "      <td>2</td>\n",
              "      <td>20.5250</td>\n",
              "      <td>1</td>\n",
              "      <td>2</td>\n",
              "      <td>1</td>\n",
              "      <td>1</td>\n",
              "      <td>1</td>\n",
              "      <td>2</td>\n",
              "      <td>Mrs</td>\n",
              "    </tr>\n",
              "    <tr>\n",
              "      <th>130</th>\n",
              "      <td>36.0</td>\n",
              "      <td>-1</td>\n",
              "      <td>-1</td>\n",
              "      <td>-1</td>\n",
              "      <td>2</td>\n",
              "      <td>27.7500</td>\n",
              "      <td>2</td>\n",
              "      <td>1</td>\n",
              "      <td>0</td>\n",
              "      <td>1</td>\n",
              "      <td>0</td>\n",
              "      <td>3</td>\n",
              "      <td>Mr</td>\n",
              "    </tr>\n",
              "  </tbody>\n",
              "</table>\n",
              "<p>1309 rows × 13 columns</p>\n",
              "</div>\n",
              "      <button class=\"colab-df-convert\" onclick=\"convertToInteractive('df-ea6b10ab-632d-4bd9-80e0-bf78d1418364')\"\n",
              "              title=\"Convert this dataframe to an interactive table.\"\n",
              "              style=\"display:none;\">\n",
              "        \n",
              "  <svg xmlns=\"http://www.w3.org/2000/svg\" height=\"24px\"viewBox=\"0 0 24 24\"\n",
              "       width=\"24px\">\n",
              "    <path d=\"M0 0h24v24H0V0z\" fill=\"none\"/>\n",
              "    <path d=\"M18.56 5.44l.94 2.06.94-2.06 2.06-.94-2.06-.94-.94-2.06-.94 2.06-2.06.94zm-11 1L8.5 8.5l.94-2.06 2.06-.94-2.06-.94L8.5 2.5l-.94 2.06-2.06.94zm10 10l.94 2.06.94-2.06 2.06-.94-2.06-.94-.94-2.06-.94 2.06-2.06.94z\"/><path d=\"M17.41 7.96l-1.37-1.37c-.4-.4-.92-.59-1.43-.59-.52 0-1.04.2-1.43.59L10.3 9.45l-7.72 7.72c-.78.78-.78 2.05 0 2.83L4 21.41c.39.39.9.59 1.41.59.51 0 1.02-.2 1.41-.59l7.78-7.78 2.81-2.81c.8-.78.8-2.07 0-2.86zM5.41 20L4 18.59l7.72-7.72 1.47 1.35L5.41 20z\"/>\n",
              "  </svg>\n",
              "      </button>\n",
              "      \n",
              "  <style>\n",
              "    .colab-df-container {\n",
              "      display:flex;\n",
              "      flex-wrap:wrap;\n",
              "      gap: 12px;\n",
              "    }\n",
              "\n",
              "    .colab-df-convert {\n",
              "      background-color: #E8F0FE;\n",
              "      border: none;\n",
              "      border-radius: 50%;\n",
              "      cursor: pointer;\n",
              "      display: none;\n",
              "      fill: #1967D2;\n",
              "      height: 32px;\n",
              "      padding: 0 0 0 0;\n",
              "      width: 32px;\n",
              "    }\n",
              "\n",
              "    .colab-df-convert:hover {\n",
              "      background-color: #E2EBFA;\n",
              "      box-shadow: 0px 1px 2px rgba(60, 64, 67, 0.3), 0px 1px 3px 1px rgba(60, 64, 67, 0.15);\n",
              "      fill: #174EA6;\n",
              "    }\n",
              "\n",
              "    [theme=dark] .colab-df-convert {\n",
              "      background-color: #3B4455;\n",
              "      fill: #D2E3FC;\n",
              "    }\n",
              "\n",
              "    [theme=dark] .colab-df-convert:hover {\n",
              "      background-color: #434B5C;\n",
              "      box-shadow: 0px 1px 3px 1px rgba(0, 0, 0, 0.15);\n",
              "      filter: drop-shadow(0px 1px 2px rgba(0, 0, 0, 0.3));\n",
              "      fill: #FFFFFF;\n",
              "    }\n",
              "  </style>\n",
              "\n",
              "      <script>\n",
              "        const buttonEl =\n",
              "          document.querySelector('#df-ea6b10ab-632d-4bd9-80e0-bf78d1418364 button.colab-df-convert');\n",
              "        buttonEl.style.display =\n",
              "          google.colab.kernel.accessAllowed ? 'block' : 'none';\n",
              "\n",
              "        async function convertToInteractive(key) {\n",
              "          const element = document.querySelector('#df-ea6b10ab-632d-4bd9-80e0-bf78d1418364');\n",
              "          const dataTable =\n",
              "            await google.colab.kernel.invokeFunction('convertToInteractive',\n",
              "                                                     [key], {});\n",
              "          if (!dataTable) return;\n",
              "\n",
              "          const docLinkHtml = 'Like what you see? Visit the ' +\n",
              "            '<a target=\"_blank\" href=https://colab.research.google.com/notebooks/data_table.ipynb>data table notebook</a>'\n",
              "            + ' to learn more about interactive tables.';\n",
              "          element.innerHTML = '';\n",
              "          dataTable['output_type'] = 'display_data';\n",
              "          await google.colab.output.renderOutput(dataTable, element);\n",
              "          const docLink = document.createElement('div');\n",
              "          docLink.innerHTML = docLinkHtml;\n",
              "          element.appendChild(docLink);\n",
              "        }\n",
              "      </script>\n",
              "    </div>\n",
              "  </div>\n",
              "  "
            ]
          },
          "metadata": {},
          "execution_count": 23
        }
      ]
    },
    {
      "cell_type": "code",
      "source": [
        "df.status.unique()"
      ],
      "metadata": {
        "colab": {
          "base_uri": "https://localhost:8080/"
        },
        "id": "kOUd6H7R6bV3",
        "outputId": "46282517-289d-4ef2-8bab-5d5d833e428d"
      },
      "execution_count": 24,
      "outputs": [
        {
          "output_type": "execute_result",
          "data": {
            "text/plain": [
              "array(['Mr', 'Miss', 'Mrs', 'Master', 'Other', 'Dona'], dtype=object)"
            ]
          },
          "metadata": {},
          "execution_count": 24
        }
      ]
    },
    {
      "cell_type": "code",
      "source": [
        "df.loc[df['status'] == 'Mr', 'status'] = 1\n",
        "df.loc[df['status'] == 'Miss', 'status'] = 2\n",
        "df.loc[df['status'] == 'Mrs', 'status'] = 3\n",
        "df.loc[df['status'] == 'Master', 'status'] = 4\n",
        "df.loc[df['status'] == 'Dona', 'status'] = 5\n",
        "df.loc[df['status'] == 'Other', 'status'] = 6"
      ],
      "metadata": {
        "id": "XV9WysQf6XbK"
      },
      "execution_count": 25,
      "outputs": []
    },
    {
      "cell_type": "code",
      "source": [
        "# Для удобства переименуем столбец с метками классов, сбросим индекс (чтобы не было повторений)\n",
        "df = df.rename(columns={0: 'survived'})\n",
        "df.reset_index(inplace=True, drop=True)"
      ],
      "metadata": {
        "id": "DN9insnz5hhg"
      },
      "execution_count": 26,
      "outputs": []
    },
    {
      "cell_type": "code",
      "source": [
        "figure = plt.figure(figsize = (10, 10))\n",
        "sns.catplot(data=df, x=\"status\", kind=\"count\", palette=\"ch:.25\")\n",
        "sns.catplot(data=df, x=\"pclass\", kind=\"count\", palette=\"ch:.25\")"
      ],
      "metadata": {
        "colab": {
          "base_uri": "https://localhost:8080/",
          "height": 1000
        },
        "id": "ORPeMdPO8erx",
        "outputId": "08cc39fb-8c53-4a8a-9316-306d3b3fdce4"
      },
      "execution_count": 27,
      "outputs": [
        {
          "output_type": "execute_result",
          "data": {
            "text/plain": [
              "<seaborn.axisgrid.FacetGrid at 0x7f9564357d60>"
            ]
          },
          "metadata": {},
          "execution_count": 27
        },
        {
          "output_type": "display_data",
          "data": {
            "text/plain": [
              "<Figure size 1000x1000 with 0 Axes>"
            ]
          },
          "metadata": {}
        },
        {
          "output_type": "display_data",
          "data": {
            "text/plain": [
              "<Figure size 500x500 with 1 Axes>"
            ],
            "image/png": "[encoded data removed]"
          },
          "metadata": {}
        },
        {
          "output_type": "display_data",
          "data": {
            "text/plain": [
              "<Figure size 500x500 with 1 Axes>"
            ],
            "image/png": "[encoded data removed]"
          },
          "metadata": {}
        }
      ]
    },
    {
      "cell_type": "code",
      "source": [
        "sns.histplot(data = df, x = 'fare', hue = 'survived')"
      ],
      "metadata": {
        "colab": {
          "base_uri": "https://localhost:8080/",
          "height": 380
        },
        "id": "OZl49Iyq9Vtg",
        "outputId": "919a1b58-0f27-45a3-dc4c-e661c81b5e27"
      },
      "execution_count": 28,
      "outputs": [
        {
          "output_type": "execute_result",
          "data": {
            "text/plain": [
              "<Axes: xlabel='fare', ylabel='Count'>"
            ]
          },
          "metadata": {},
          "execution_count": 28
        },
        {
          "output_type": "display_data",
          "data": {
            "text/plain": [
              "<Figure size 1800x500 with 1 Axes>"
            ],
            "image/png": "[encoded data removed]"
          },
          "metadata": {}
        }
      ]
    },
    {
      "cell_type": "code",
      "source": [
        "sns.histplot(data = df, x = 'age', hue = 'survived')"
      ],
      "metadata": {
        "colab": {
          "base_uri": "https://localhost:8080/",
          "height": 380
        },
        "id": "5xqqxcqz9htu",
        "outputId": "9a50f99b-aef6-4b9c-84e4-5c863dc38597"
      },
      "execution_count": 29,
      "outputs": [
        {
          "output_type": "execute_result",
          "data": {
            "text/plain": [
              "<Axes: xlabel='age', ylabel='Count'>"
            ]
          },
          "metadata": {},
          "execution_count": 29
        },
        {
          "output_type": "display_data",
          "data": {
            "text/plain": [
              "<Figure size 1800x500 with 1 Axes>"
            ],
            "image/png": "[encoded data removed]"
          },
          "metadata": {}
        }
      ]
    },
    {
      "cell_type": "code",
      "source": [
        "df.sex.hist()"
      ],
      "metadata": {
        "colab": {
          "base_uri": "https://localhost:8080/",
          "height": 368
        },
        "id": "PUwecjw5CbzZ",
        "outputId": "3bb9788c-5dbf-4dfc-f50a-ef1ebd242daf"
      },
      "execution_count": 30,
      "outputs": [
        {
          "output_type": "execute_result",
          "data": {
            "text/plain": [
              "<Axes: >"
            ]
          },
          "metadata": {},
          "execution_count": 30
        },
        {
          "output_type": "display_data",
          "data": {
            "text/plain": [
              "<Figure size 1800x500 with 1 Axes>"
            ],
            "image/png": "[encoded data removed]"
          },
          "metadata": {}
        }
      ]
    },
    {
      "cell_type": "markdown",
      "source": [
        "Мужчин было на борту больше, чем женщин"
      ],
      "metadata": {
        "id": "9kAL6ANcCv75"
      }
    },
    {
      "cell_type": "code",
      "source": [
        "sns.catplot(data = df,y='survived',x='sex',col='pclass',\n",
        "            kind='bar', saturation=0.5)"
      ],
      "metadata": {
        "colab": {
          "base_uri": "https://localhost:8080/",
          "height": 400
        },
        "id": "CVw2ORV8CPQD",
        "outputId": "4d067f7f-7a3b-48c6-d776-b97a583162c1"
      },
      "execution_count": 31,
      "outputs": [
        {
          "output_type": "execute_result",
          "data": {
            "text/plain": [
              "<seaborn.axisgrid.FacetGrid at 0x7f957bd72bc0>"
            ]
          },
          "metadata": {},
          "execution_count": 31
        },
        {
          "output_type": "display_data",
          "data": {
            "text/plain": [
              "<Figure size 1500x500 with 3 Axes>"
            ],
            "image/png": "[encoded data removed]"
          },
          "metadata": {}
        }
      ]
    },
    {
      "cell_type": "markdown",
      "source": [
        "Во всех классах женщины спаслись больше мужчин, это говорит о героизме мужчин на борту. Получается, уступали места женщинам в лодках"
      ],
      "metadata": {
        "id": "bSWsYjyzCZN1"
      }
    },
    {
      "cell_type": "code",
      "source": [
        "sns.catplot(data = df,y='survived',x='pclass',\n",
        "            kind='bar', saturation=0.5)"
      ],
      "metadata": {
        "colab": {
          "base_uri": "https://localhost:8080/",
          "height": 519
        },
        "id": "IUdwXMPmDC8i",
        "outputId": "d83bbf61-4df2-4c48-95e7-6a6472ec0867"
      },
      "execution_count": 32,
      "outputs": [
        {
          "output_type": "execute_result",
          "data": {
            "text/plain": [
              "<seaborn.axisgrid.FacetGrid at 0x7f957bc65d50>"
            ]
          },
          "metadata": {},
          "execution_count": 32
        },
        {
          "output_type": "display_data",
          "data": {
            "text/plain": [
              "<Figure size 500x500 with 1 Axes>"
            ],
            "image/png": "[encoded data removed]"
          },
          "metadata": {}
        }
      ]
    },
    {
      "cell_type": "markdown",
      "source": [
        "Тут мы видим, что бедный класс спасался чаще, чем богатый"
      ],
      "metadata": {
        "id": "eO00pheFDJvF"
      }
    },
    {
      "cell_type": "markdown",
      "source": [
        "Ранее запускала код, поэтому длины у массивов следующие:"
      ],
      "metadata": {
        "id": "45sBKwh9-z_S"
      }
    },
    {
      "cell_type": "code",
      "source": [
        "train_len, val_len, test_len = 1047, 131, 131"
      ],
      "metadata": {
        "id": "SaEZDIRh-wqA"
      },
      "execution_count": 33,
      "outputs": []
    },
    {
      "cell_type": "code",
      "source": [
        "train_len"
      ],
      "metadata": {
        "colab": {
          "base_uri": "https://localhost:8080/"
        },
        "id": "clbvZXCM-6Yp",
        "outputId": "8fc92980-00e6-42ac-8dc0-6dcc7721fec5"
      },
      "execution_count": 34,
      "outputs": [
        {
          "output_type": "execute_result",
          "data": {
            "text/plain": [
              "1047"
            ]
          },
          "metadata": {},
          "execution_count": 34
        }
      ]
    },
    {
      "cell_type": "code",
      "source": [
        "df.fare"
      ],
      "metadata": {
        "colab": {
          "base_uri": "https://localhost:8080/"
        },
        "id": "s3XD_oT5HcH4",
        "outputId": "58e4390c-4d40-4174-aa3b-2fd74e2b7053"
      },
      "execution_count": 35,
      "outputs": [
        {
          "output_type": "execute_result",
          "data": {
            "text/plain": [
              "0       13.0000\n",
              "1        7.9250\n",
              "2       13.0000\n",
              "3       73.5000\n",
              "4        7.8958\n",
              "         ...   \n",
              "1304     7.7500\n",
              "1305     7.7750\n",
              "1306     8.1375\n",
              "1307    20.5250\n",
              "1308    27.7500\n",
              "Name: fare, Length: 1309, dtype: float32"
            ]
          },
          "metadata": {},
          "execution_count": 35
        }
      ]
    },
    {
      "cell_type": "code",
      "source": [
        "input_shape = (8, )\n",
        "batch_size = 30\n",
        "amount_of_classes = 2"
      ],
      "metadata": {
        "id": "yzclB8AP_MIP"
      },
      "execution_count": 36,
      "outputs": []
    },
    {
      "cell_type": "code",
      "source": [
        "df.family_size.unique()"
      ],
      "metadata": {
        "colab": {
          "base_uri": "https://localhost:8080/"
        },
        "id": "T-20nxZOAket",
        "outputId": "24dd769c-d41b-4a12-a6e7-e71fbfea44db"
      },
      "execution_count": 37,
      "outputs": [
        {
          "output_type": "execute_result",
          "data": {
            "text/plain": [
              "array([ 0,  2,  1,  3,  6,  4, 10,  5,  7], dtype=int32)"
            ]
          },
          "metadata": {},
          "execution_count": 37
        }
      ]
    },
    {
      "cell_type": "code",
      "source": [
        "# заполняем сначала значения нового признака нулями, далее разбиваем данные на 4 категории\n",
        "df['age_cat'] = 0\n",
        "df.loc[df['age'] <= 21, 'age_cat'] = 0\n",
        "df.loc[(df['age'] > 21) & (df['age'] <= 28), 'age_cat'] = 1\n",
        "df.loc[(df['age'] > 28) & (df['age'] <= 39), 'age_cat'] = 2\n",
        "df.loc[(df['age'] > 39) & (df['age'] <= 80), 'age_cat'] = 3\n",
        "df.drop(['age'], axis=1, inplace=True)"
      ],
      "metadata": {
        "id": "IHgn8S2cAsa_"
      },
      "execution_count": 38,
      "outputs": []
    },
    {
      "cell_type": "code",
      "source": [
        "df = df.drop(columns = ['boat','cabin','sibsp','parch','body'])"
      ],
      "metadata": {
        "id": "LoUufO8JFTAI"
      },
      "execution_count": 39,
      "outputs": []
    },
    {
      "cell_type": "code",
      "source": [
        "df.info()"
      ],
      "metadata": {
        "colab": {
          "base_uri": "https://localhost:8080/"
        },
        "id": "Q6VqjP2MH21o",
        "outputId": "7bbfc94f-5926-4353-9da1-cd8ef985e9ef"
      },
      "execution_count": 40,
      "outputs": [
        {
          "output_type": "stream",
          "name": "stdout",
          "text": [
            "<class 'pandas.core.frame.DataFrame'>\n",
            "RangeIndex: 1309 entries, 0 to 1308\n",
            "Data columns (total 8 columns):\n",
            " #   Column       Non-Null Count  Dtype  \n",
            "---  ------       --------------  -----  \n",
            " 0   embarked     1309 non-null   int64  \n",
            " 1   fare         1309 non-null   float32\n",
            " 2   pclass       1309 non-null   int64  \n",
            " 3   sex          1309 non-null   int64  \n",
            " 4   survived     1309 non-null   int64  \n",
            " 5   family_size  1309 non-null   int32  \n",
            " 6   status       1309 non-null   object \n",
            " 7   age_cat      1309 non-null   int64  \n",
            "dtypes: float32(1), int32(1), int64(5), object(1)\n",
            "memory usage: 71.7+ KB\n"
          ]
        }
      ]
    },
    {
      "cell_type": "code",
      "source": [
        "df['status_new'] = df['status'].astype(int)\n",
        "df = df.drop(columns = ['status'])"
      ],
      "metadata": {
        "id": "nONhEpSRI0aI"
      },
      "execution_count": 41,
      "outputs": []
    },
    {
      "cell_type": "code",
      "source": [
        "df.info()"
      ],
      "metadata": {
        "colab": {
          "base_uri": "https://localhost:8080/"
        },
        "id": "5Fg2ADBbPsUj",
        "outputId": "e2787a8f-90db-42a9-d506-8752a4c77b89"
      },
      "execution_count": 42,
      "outputs": [
        {
          "output_type": "stream",
          "name": "stdout",
          "text": [
            "<class 'pandas.core.frame.DataFrame'>\n",
            "RangeIndex: 1309 entries, 0 to 1308\n",
            "Data columns (total 8 columns):\n",
            " #   Column       Non-Null Count  Dtype  \n",
            "---  ------       --------------  -----  \n",
            " 0   embarked     1309 non-null   int64  \n",
            " 1   fare         1309 non-null   float32\n",
            " 2   pclass       1309 non-null   int64  \n",
            " 3   sex          1309 non-null   int64  \n",
            " 4   survived     1309 non-null   int64  \n",
            " 5   family_size  1309 non-null   int32  \n",
            " 6   age_cat      1309 non-null   int64  \n",
            " 7   status_new   1309 non-null   int64  \n",
            "dtypes: float32(1), int32(1), int64(6)\n",
            "memory usage: 71.7 KB\n"
          ]
        }
      ]
    },
    {
      "cell_type": "code",
      "source": [
        "ds_train = df.iloc[:train_len, :]\n",
        "ds_validation = df.iloc[train_len: train_len + val_len]\n",
        "ds_test = df.iloc[train_len + val_len: train_len + val_len + test_len]"
      ],
      "metadata": {
        "id": "AwrkvuSjGZlV"
      },
      "execution_count": 43,
      "outputs": []
    },
    {
      "cell_type": "code",
      "source": [
        "# Эти массивы нам пригодятся в дальнейшем\n",
        "X_train_np = ds_train.drop(columns = ['survived']).to_numpy()\n",
        "y_train_np = ds_train['survived'].to_numpy()\n",
        "\n",
        "X_test_np = ds_test.drop(columns = ['survived']).to_numpy()\n",
        "y_test_np = ds_test['survived'].to_numpy()"
      ],
      "metadata": {
        "id": "7uipNvN1PK-S"
      },
      "execution_count": 44,
      "outputs": []
    },
    {
      "cell_type": "code",
      "source": [
        "ds_train.columns"
      ],
      "metadata": {
        "colab": {
          "base_uri": "https://localhost:8080/"
        },
        "id": "_bsNkzyfKuua",
        "outputId": "aec39071-1125-402a-fa8c-0be98270c630"
      },
      "execution_count": 45,
      "outputs": [
        {
          "output_type": "execute_result",
          "data": {
            "text/plain": [
              "Index(['embarked', 'fare', 'pclass', 'sex', 'survived', 'family_size',\n",
              "       'age_cat', 'status_new'],\n",
              "      dtype='object')"
            ]
          },
          "metadata": {},
          "execution_count": 45
        }
      ]
    },
    {
      "cell_type": "code",
      "source": [
        "\n",
        "x_col = ['fare', 'age_cat', 'embarked_0', 'embarked_1', 'embarked_2',\n",
        "       'embarked_3', 'pclass_0', 'pclass_1', 'pclass_2', 'sex_0', 'sex_1',\n",
        "       'mr_mrs_Dona', 'mr_mrs_Master', 'mr_mrs_Miss', 'mr_mrs_Mr',\n",
        "       'mr_mrs_Mrs', 'mr_mrs_Other', 'family_size_0', 'family_size_1',\n",
        "       'family_size_2', 'family_size_3', 'family_size_4', 'family_size_5',\n",
        "       'family_size_6', 'family_size_7', 'family_size_10']\n",
        "y_col = ['survived']\n",
        "\n",
        "X_train_np = ds_train.loc[:, x_col].to_numpy()\n",
        "y_train_np = ds_train['survived'].to_numpy()\n",
        "\n",
        "X_test_np = ds_test.loc[:, x_col].to_numpy()\n",
        "y_test_np = ds_test['survived'].to_numpy()"
      ],
      "metadata": {
        "id": "aqUGBxcL_eVq"
      },
      "execution_count": null,
      "outputs": []
    },
    {
      "cell_type": "code",
      "source": [
        "\n",
        "X_train_np = ds_train.loc[:].to_numpy()\n",
        "y_train_np = ds_train['survived'].to_numpy()\n",
        "\n",
        "X_test_np = ds_test.loc[:].to_numpy()\n",
        "y_test_np = ds_test['survived'].to_numpy()"
      ],
      "metadata": {
        "id": "MAuGdvoWUI7K"
      },
      "execution_count": 48,
      "outputs": []
    },
    {
      "cell_type": "code",
      "source": [
        "#X_test_np = ds_test.loc[:].to_numpy()\n",
        "#y_test_np = ds_test['survived'].to_numpy()\n",
        "\n",
        "# Перейдем обратно к тензорам\n",
        "ds_train = tf.data.Dataset.from_tensor_slices((ds_train.loc[:], ds_train['survived']))\n",
        "ds_validation = tf.data.Dataset.from_tensor_slices((ds_validation.loc[:], ds_validation['survived']))\n",
        "ds_test = tf.data.Dataset.from_tensor_slices((ds_test.loc[:], ds_test['survived']))\n",
        "\n",
        "# Сформируем словари\n",
        "ds_train = ds_train.map(lambda x, y: {'description': x, 'label': y})\n",
        "ds_validation = ds_validation.map(lambda x, y: {'description': x, 'label': y})\n",
        "ds_test = ds_test.map(lambda x, y: {'description': x, 'label': y})\n",
        "\n",
        "\n",
        "def convert_ds(sample):\n",
        "    '''\n",
        "    Функция для формирования тензора\n",
        "    sample: MapDataset tensorflow\n",
        "    '''\n",
        "    return sample['description'], sample['label']\n",
        "\n",
        "ds_train = ds_train.map(convert_ds)\n",
        "ds_validation = ds_validation.map(convert_ds)\n",
        "ds_test = ds_test.map(convert_ds)"
      ],
      "metadata": {
        "id": "S1WThmlvLQ8-"
      },
      "execution_count": 49,
      "outputs": []
    },
    {
      "cell_type": "code",
      "source": [
        "examples = ds_train.as_numpy_iterator()\n",
        "examples = [examples.next() for _ in range(1)]\n",
        "\n",
        "# Сведения о первом пассажире тренировочного набора\n",
        "features = [i[0] for i in examples]\n",
        "classes = [i[1] for i in examples]\n",
        "\n",
        "print(features)\n",
        "print(classes)"
      ],
      "metadata": {
        "colab": {
          "base_uri": "https://localhost:8080/"
        },
        "id": "lEyW0-ae_ePT",
        "outputId": "f6e3dd88-d650-467e-8fd0-616c8a3b61aa"
      },
      "execution_count": 50,
      "outputs": [
        {
          "output_type": "stream",
          "name": "stdout",
          "text": [
            "[array([ 2., 13.,  1.,  0.,  0.,  0.,  2.,  1.])]\n",
            "[0]\n"
          ]
        }
      ]
    },
    {
      "cell_type": "code",
      "source": [
        "input_shape = (8, )     # Наши данные - одномерный массив с размерностью 8\n",
        "batch_size = 10\n",
        "amount_of_classes = 2"
      ],
      "metadata": {
        "id": "MSmmQW5yTwCG"
      },
      "execution_count": 51,
      "outputs": []
    },
    {
      "cell_type": "code",
      "source": [
        "# Закодируем метки классов с помощью one-hot кодирования, также поделим каждый из наборов на батчи\n",
        "\n",
        "def make_one_hot(x, y):\n",
        "\n",
        "    return x, tf.one_hot(y, depth = amount_of_classes)\n",
        "\n",
        "# Выполняем преобразования в каждом наборе\n",
        "ds_train = (\n",
        "    ds_train\n",
        "    .map(make_one_hot)\n",
        "    .shuffle(len(ds_train))\n",
        "    .batch(batch_size, drop_remainder = True)\n",
        ")\n",
        "\n",
        "ds_validation = (\n",
        "    ds_validation\n",
        "    .map(make_one_hot)\n",
        "    .shuffle(len(ds_validation))\n",
        "    .batch(batch_size, drop_remainder = True)\n",
        ")\n",
        "\n",
        "ds_test = (\n",
        "    ds_test\n",
        "    .map(make_one_hot)\n",
        "    .shuffle(len(ds_test))\n",
        "    .batch(batch_size, drop_remainder = True)\n",
        ")"
      ],
      "metadata": {
        "id": "W82Sh7eyLpD0"
      },
      "execution_count": 52,
      "outputs": []
    },
    {
      "cell_type": "code",
      "source": [
        "# Инициализируем модель\n",
        "model = keras.Sequential()\n",
        "model.add(layers.InputLayer(input_shape = input_shape, batch_size = batch_size))\n",
        "\n",
        "# Добавляем слои, указав количество нейронов, функцию активации\n",
        "model.add(layers.Dense(64, activation = activations.sigmoid))\n",
        "model.add(layers.Dense(16, activation = 'relu'))\n",
        "model.add(layers.Dense(8, activation = 'sigmoid'))\n",
        "\n",
        "# Последний слой активируем с помощью сигмоиды (для бинарной классификации)\n",
        "model.add(layers.Dense(amount_of_classes, activation = activations.sigmoid))\n",
        "\n",
        "\n",
        "model.compile(\n",
        "    optimizer = optimizers.Adam(learning_rate = 0.001),\n",
        "    loss = losses.CategoricalCrossentropy(),\n",
        "    metrics = [metrics.PrecisionAtRecall(0.9)]\n",
        "#     metrics = [metrics.CategoricalAccuracy()]\n",
        ")"
      ],
      "metadata": {
        "id": "Ngj9q_D2LwL7"
      },
      "execution_count": 53,
      "outputs": []
    },
    {
      "cell_type": "code",
      "source": [
        "model_ten = model.fit(ds_train, epochs = 20, validation_data = ds_validation, batch_size = batch_size, verbose = 0 )"
      ],
      "metadata": {
        "id": "Znw_3OaMMZNe"
      },
      "execution_count": 54,
      "outputs": []
    },
    {
      "cell_type": "code",
      "source": [
        "print(model_ten.history)"
      ],
      "metadata": {
        "colab": {
          "base_uri": "https://localhost:8080/"
        },
        "id": "I8aGzZfHMZKL",
        "outputId": "16036cb7-4e9c-45be-d09f-e0ab146b7b1b"
      },
      "execution_count": 55,
      "outputs": [
        {
          "output_type": "stream",
          "name": "stdout",
          "text": [
            "{'loss': [0.821864128112793, 0.658375084400177, 0.6218685507774353, 0.505405068397522, 0.2975933849811554, 0.16455958783626556, 0.08406736701726913, 0.05217370763421059, 0.03722052276134491, 0.04036664590239525, 0.02355233021080494, 0.019165951758623123, 0.01620924100279808, 0.01394282653927803, 0.012135653756558895, 0.010662127286195755, 0.009466311894357204, 0.008478195406496525, 0.00758901983499527, 0.006860287394374609], 'precision_at_recall': [0.5014563202857971, 0.5154207944869995, 0.5941140651702881, 0.7423167824745178, 0.9623218178749084, 0.9968085289001465, 1.0, 1.0, 1.0, 1.0, 1.0, 1.0, 1.0, 1.0, 1.0, 1.0, 1.0, 1.0, 1.0, 1.0], 'val_loss': [0.6889693737030029, 0.6829410195350647, 0.589510977268219, 0.4191209673881531, 0.1894836127758026, 0.10165272653102875, 0.06191829591989517, 0.0384381003677845, 0.030204223468899727, 0.023817751556634903, 0.019282162189483643, 0.015936721116304398, 0.01381222065538168, 0.012012600898742676, 0.010577450506389141, 0.009249798022210598, 0.00830229464918375, 0.007450707256793976, 0.006726090796291828, 0.006111364811658859], 'val_precision_at_recall': [0.5042017102241516, 0.5344827771186829, 0.6536312699317932, 0.8550724387168884, 0.9922480583190918, 1.0, 1.0, 1.0, 1.0, 1.0, 1.0, 1.0, 1.0, 1.0, 1.0, 1.0, 1.0, 1.0, 1.0, 1.0]}\n"
          ]
        }
      ]
    },
    {
      "cell_type": "code",
      "source": [
        "df_mod = pd.DataFrame(model_ten.history)\n",
        "df_mod"
      ],
      "metadata": {
        "colab": {
          "base_uri": "https://localhost:8080/",
          "height": 676
        },
        "id": "V0MuSLOpQS5k",
        "outputId": "b92a7a2b-62ae-454b-bf26-7a99eac033f8"
      },
      "execution_count": 56,
      "outputs": [
        {
          "output_type": "execute_result",
          "data": {
            "text/plain": [
              "        loss  precision_at_recall  val_loss  val_precision_at_recall\n",
              "0   0.821864             0.501456  0.688969                 0.504202\n",
              "1   0.658375             0.515421  0.682941                 0.534483\n",
              "2   0.621869             0.594114  0.589511                 0.653631\n",
              "3   0.505405             0.742317  0.419121                 0.855072\n",
              "4   0.297593             0.962322  0.189484                 0.992248\n",
              "5   0.164560             0.996809  0.101653                 1.000000\n",
              "6   0.084067             1.000000  0.061918                 1.000000\n",
              "7   0.052174             1.000000  0.038438                 1.000000\n",
              "8   0.037221             1.000000  0.030204                 1.000000\n",
              "9   0.040367             1.000000  0.023818                 1.000000\n",
              "10  0.023552             1.000000  0.019282                 1.000000\n",
              "11  0.019166             1.000000  0.015937                 1.000000\n",
              "12  0.016209             1.000000  0.013812                 1.000000\n",
              "13  0.013943             1.000000  0.012013                 1.000000\n",
              "14  0.012136             1.000000  0.010577                 1.000000\n",
              "15  0.010662             1.000000  0.009250                 1.000000\n",
              "16  0.009466             1.000000  0.008302                 1.000000\n",
              "17  0.008478             1.000000  0.007451                 1.000000\n",
              "18  0.007589             1.000000  0.006726                 1.000000\n",
              "19  0.006860             1.000000  0.006111                 1.000000"
            ],
            "text/html": [
              "\n",
              "  <div id=\"df-a2ae28cf-71ad-485e-bc02-6cd3ca38d276\">\n",
              "    <div class=\"colab-df-container\">\n",
              "      <div>\n",
              "<style scoped>\n",
              "    .dataframe tbody tr th:only-of-type {\n",
              "        vertical-align: middle;\n",
              "    }\n",
              "\n",
              "    .dataframe tbody tr th {\n",
              "        vertical-align: top;\n",
              "    }\n",
              "\n",
              "    .dataframe thead th {\n",
              "        text-align: right;\n",
              "    }\n",
              "</style>\n",
              "<table border=\"1\" class=\"dataframe\">\n",
              "  <thead>\n",
              "    <tr style=\"text-align: right;\">\n",
              "      <th></th>\n",
              "      <th>loss</th>\n",
              "      <th>precision_at_recall</th>\n",
              "      <th>val_loss</th>\n",
              "      <th>val_precision_at_recall</th>\n",
              "    </tr>\n",
              "  </thead>\n",
              "  <tbody>\n",
              "    <tr>\n",
              "      <th>0</th>\n",
              "      <td>0.821864</td>\n",
              "      <td>0.501456</td>\n",
              "      <td>0.688969</td>\n",
              "      <td>0.504202</td>\n",
              "    </tr>\n",
              "    <tr>\n",
              "      <th>1</th>\n",
              "      <td>0.658375</td>\n",
              "      <td>0.515421</td>\n",
              "      <td>0.682941</td>\n",
              "      <td>0.534483</td>\n",
              "    </tr>\n",
              "    <tr>\n",
              "      <th>2</th>\n",
              "      <td>0.621869</td>\n",
              "      <td>0.594114</td>\n",
              "      <td>0.589511</td>\n",
              "      <td>0.653631</td>\n",
              "    </tr>\n",
              "    <tr>\n",
              "      <th>3</th>\n",
              "      <td>0.505405</td>\n",
              "      <td>0.742317</td>\n",
              "      <td>0.419121</td>\n",
              "      <td>0.855072</td>\n",
              "    </tr>\n",
              "    <tr>\n",
              "      <th>4</th>\n",
              "      <td>0.297593</td>\n",
              "      <td>0.962322</td>\n",
              "      <td>0.189484</td>\n",
              "      <td>0.992248</td>\n",
              "    </tr>\n",
              "    <tr>\n",
              "      <th>5</th>\n",
              "      <td>0.164560</td>\n",
              "      <td>0.996809</td>\n",
              "      <td>0.101653</td>\n",
              "      <td>1.000000</td>\n",
              "    </tr>\n",
              "    <tr>\n",
              "      <th>6</th>\n",
              "      <td>0.084067</td>\n",
              "      <td>1.000000</td>\n",
              "      <td>0.061918</td>\n",
              "      <td>1.000000</td>\n",
              "    </tr>\n",
              "    <tr>\n",
              "      <th>7</th>\n",
              "      <td>0.052174</td>\n",
              "      <td>1.000000</td>\n",
              "      <td>0.038438</td>\n",
              "      <td>1.000000</td>\n",
              "    </tr>\n",
              "    <tr>\n",
              "      <th>8</th>\n",
              "      <td>0.037221</td>\n",
              "      <td>1.000000</td>\n",
              "      <td>0.030204</td>\n",
              "      <td>1.000000</td>\n",
              "    </tr>\n",
              "    <tr>\n",
              "      <th>9</th>\n",
              "      <td>0.040367</td>\n",
              "      <td>1.000000</td>\n",
              "      <td>0.023818</td>\n",
              "      <td>1.000000</td>\n",
              "    </tr>\n",
              "    <tr>\n",
              "      <th>10</th>\n",
              "      <td>0.023552</td>\n",
              "      <td>1.000000</td>\n",
              "      <td>0.019282</td>\n",
              "      <td>1.000000</td>\n",
              "    </tr>\n",
              "    <tr>\n",
              "      <th>11</th>\n",
              "      <td>0.019166</td>\n",
              "      <td>1.000000</td>\n",
              "      <td>0.015937</td>\n",
              "      <td>1.000000</td>\n",
              "    </tr>\n",
              "    <tr>\n",
              "      <th>12</th>\n",
              "      <td>0.016209</td>\n",
              "      <td>1.000000</td>\n",
              "      <td>0.013812</td>\n",
              "      <td>1.000000</td>\n",
              "    </tr>\n",
              "    <tr>\n",
              "      <th>13</th>\n",
              "      <td>0.013943</td>\n",
              "      <td>1.000000</td>\n",
              "      <td>0.012013</td>\n",
              "      <td>1.000000</td>\n",
              "    </tr>\n",
              "    <tr>\n",
              "      <th>14</th>\n",
              "      <td>0.012136</td>\n",
              "      <td>1.000000</td>\n",
              "      <td>0.010577</td>\n",
              "      <td>1.000000</td>\n",
              "    </tr>\n",
              "    <tr>\n",
              "      <th>15</th>\n",
              "      <td>0.010662</td>\n",
              "      <td>1.000000</td>\n",
              "      <td>0.009250</td>\n",
              "      <td>1.000000</td>\n",
              "    </tr>\n",
              "    <tr>\n",
              "      <th>16</th>\n",
              "      <td>0.009466</td>\n",
              "      <td>1.000000</td>\n",
              "      <td>0.008302</td>\n",
              "      <td>1.000000</td>\n",
              "    </tr>\n",
              "    <tr>\n",
              "      <th>17</th>\n",
              "      <td>0.008478</td>\n",
              "      <td>1.000000</td>\n",
              "      <td>0.007451</td>\n",
              "      <td>1.000000</td>\n",
              "    </tr>\n",
              "    <tr>\n",
              "      <th>18</th>\n",
              "      <td>0.007589</td>\n",
              "      <td>1.000000</td>\n",
              "      <td>0.006726</td>\n",
              "      <td>1.000000</td>\n",
              "    </tr>\n",
              "    <tr>\n",
              "      <th>19</th>\n",
              "      <td>0.006860</td>\n",
              "      <td>1.000000</td>\n",
              "      <td>0.006111</td>\n",
              "      <td>1.000000</td>\n",
              "    </tr>\n",
              "  </tbody>\n",
              "</table>\n",
              "</div>\n",
              "      <button class=\"colab-df-convert\" onclick=\"convertToInteractive('df-a2ae28cf-71ad-485e-bc02-6cd3ca38d276')\"\n",
              "              title=\"Convert this dataframe to an interactive table.\"\n",
              "              style=\"display:none;\">\n",
              "        \n",
              "  <svg xmlns=\"http://www.w3.org/2000/svg\" height=\"24px\"viewBox=\"0 0 24 24\"\n",
              "       width=\"24px\">\n",
              "    <path d=\"M0 0h24v24H0V0z\" fill=\"none\"/>\n",
              "    <path d=\"M18.56 5.44l.94 2.06.94-2.06 2.06-.94-2.06-.94-.94-2.06-.94 2.06-2.06.94zm-11 1L8.5 8.5l.94-2.06 2.06-.94-2.06-.94L8.5 2.5l-.94 2.06-2.06.94zm10 10l.94 2.06.94-2.06 2.06-.94-2.06-.94-.94-2.06-.94 2.06-2.06.94z\"/><path d=\"M17.41 7.96l-1.37-1.37c-.4-.4-.92-.59-1.43-.59-.52 0-1.04.2-1.43.59L10.3 9.45l-7.72 7.72c-.78.78-.78 2.05 0 2.83L4 21.41c.39.39.9.59 1.41.59.51 0 1.02-.2 1.41-.59l7.78-7.78 2.81-2.81c.8-.78.8-2.07 0-2.86zM5.41 20L4 18.59l7.72-7.72 1.47 1.35L5.41 20z\"/>\n",
              "  </svg>\n",
              "      </button>\n",
              "      \n",
              "  <style>\n",
              "    .colab-df-container {\n",
              "      display:flex;\n",
              "      flex-wrap:wrap;\n",
              "      gap: 12px;\n",
              "    }\n",
              "\n",
              "    .colab-df-convert {\n",
              "      background-color: #E8F0FE;\n",
              "      border: none;\n",
              "      border-radius: 50%;\n",
              "      cursor: pointer;\n",
              "      display: none;\n",
              "      fill: #1967D2;\n",
              "      height: 32px;\n",
              "      padding: 0 0 0 0;\n",
              "      width: 32px;\n",
              "    }\n",
              "\n",
              "    .colab-df-convert:hover {\n",
              "      background-color: #E2EBFA;\n",
              "      box-shadow: 0px 1px 2px rgba(60, 64, 67, 0.3), 0px 1px 3px 1px rgba(60, 64, 67, 0.15);\n",
              "      fill: #174EA6;\n",
              "    }\n",
              "\n",
              "    [theme=dark] .colab-df-convert {\n",
              "      background-color: #3B4455;\n",
              "      fill: #D2E3FC;\n",
              "    }\n",
              "\n",
              "    [theme=dark] .colab-df-convert:hover {\n",
              "      background-color: #434B5C;\n",
              "      box-shadow: 0px 1px 3px 1px rgba(0, 0, 0, 0.15);\n",
              "      filter: drop-shadow(0px 1px 2px rgba(0, 0, 0, 0.3));\n",
              "      fill: #FFFFFF;\n",
              "    }\n",
              "  </style>\n",
              "\n",
              "      <script>\n",
              "        const buttonEl =\n",
              "          document.querySelector('#df-a2ae28cf-71ad-485e-bc02-6cd3ca38d276 button.colab-df-convert');\n",
              "        buttonEl.style.display =\n",
              "          google.colab.kernel.accessAllowed ? 'block' : 'none';\n",
              "\n",
              "        async function convertToInteractive(key) {\n",
              "          const element = document.querySelector('#df-a2ae28cf-71ad-485e-bc02-6cd3ca38d276');\n",
              "          const dataTable =\n",
              "            await google.colab.kernel.invokeFunction('convertToInteractive',\n",
              "                                                     [key], {});\n",
              "          if (!dataTable) return;\n",
              "\n",
              "          const docLinkHtml = 'Like what you see? Visit the ' +\n",
              "            '<a target=\"_blank\" href=https://colab.research.google.com/notebooks/data_table.ipynb>data table notebook</a>'\n",
              "            + ' to learn more about interactive tables.';\n",
              "          element.innerHTML = '';\n",
              "          dataTable['output_type'] = 'display_data';\n",
              "          await google.colab.output.renderOutput(dataTable, element);\n",
              "          const docLink = document.createElement('div');\n",
              "          docLink.innerHTML = docLinkHtml;\n",
              "          element.appendChild(docLink);\n",
              "        }\n",
              "      </script>\n",
              "    </div>\n",
              "  </div>\n",
              "  "
            ]
          },
          "metadata": {},
          "execution_count": 56
        }
      ]
    },
    {
      "cell_type": "code",
      "source": [
        "sns.lineplot(data=df_mod[['loss', 'val_loss']])"
      ],
      "metadata": {
        "colab": {
          "base_uri": "https://localhost:8080/",
          "height": 369
        },
        "id": "ZPfyW71XNdut",
        "outputId": "2932b8ff-e557-4cc7-ae6a-12ea1c13e269"
      },
      "execution_count": 57,
      "outputs": [
        {
          "output_type": "execute_result",
          "data": {
            "text/plain": [
              "<Axes: >"
            ]
          },
          "metadata": {},
          "execution_count": 57
        },
        {
          "output_type": "display_data",
          "data": {
            "text/plain": [
              "<Figure size 1800x500 with 1 Axes>"
            ],
            "image/png": "[encoded data removed]"
          },
          "metadata": {}
        }
      ]
    },
    {
      "cell_type": "code",
      "source": [
        "sns.lineplot(data=df_mod[['precision_at_recall', 'val_precision_at_recall']])"
      ],
      "metadata": {
        "colab": {
          "base_uri": "https://localhost:8080/",
          "height": 369
        },
        "id": "lOj8cSggQfst",
        "outputId": "3274268e-0759-4980-aa05-f2db88fd6e8a"
      },
      "execution_count": 58,
      "outputs": [
        {
          "output_type": "execute_result",
          "data": {
            "text/plain": [
              "<Axes: >"
            ]
          },
          "metadata": {},
          "execution_count": 58
        },
        {
          "output_type": "display_data",
          "data": {
            "text/plain": [
              "<Figure size 1800x500 with 1 Axes>"
            ],
            "image/png": "[encoded data removed]"
          },
          "metadata": {}
        }
      ]
    },
    {
      "cell_type": "code",
      "source": [
        "# Перейдем к знакомым нам массивам, чтобы рассчитать метрики оценки качества\n",
        "results = tf.nn.softmax(model(X_test_np)).numpy()\n",
        "\n",
        "# Сопоставим каждому объекту окончательную метку класса на основе предсказанной сетью вероятности\n",
        "def calculate_class(results):\n",
        "    y_pred_test = []\n",
        "    for i in results:\n",
        "        if i[0] > 0.5:\n",
        "            y_pred_test.append(0)\n",
        "        else:\n",
        "            y_pred_test.append(1)\n",
        "    return np.array(y_pred_test)\n",
        "\n",
        "y_pred_test = calculate_class(results)\n",
        "\n",
        "f1 = f1_score(y_pred_test, y_test_np, average ='macro')\n",
        "print(f'f1-score на тестовом наборе составила: {round(f1, 3)}')"
      ],
      "metadata": {
        "colab": {
          "base_uri": "https://localhost:8080/"
        },
        "id": "9rdzeaJRNrVV",
        "outputId": "f2d9819f-b375-4843-c3d5-bc1bfc81eae3"
      },
      "execution_count": 59,
      "outputs": [
        {
          "output_type": "stream",
          "name": "stdout",
          "text": [
            "f1-score на тестовом наборе составила: 1.0\n"
          ]
        }
      ]
    },
    {
      "cell_type": "markdown",
      "source": [
        "Это, безусловно, можно назвать максимально возможной оценкой f1 :D , но почему так вышло и в каком моменте модель переобучилась (или что-то пошло не так) - я ещё разбираюсь"
      ],
      "metadata": {
        "id": "CfvikeuOUYmk"
      }
    },
    {
      "cell_type": "code",
      "source": [],
      "metadata": {
        "id": "slNoKspSQtDy"
      },
      "execution_count": null,
      "outputs": []
    }
  ]
}